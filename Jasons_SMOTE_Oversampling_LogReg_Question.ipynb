{
 "cells": [
  {
   "cell_type": "code",
   "execution_count": 2,
   "id": "9ca56e45",
   "metadata": {},
   "outputs": [
    {
     "data": {
      "text/html": [
       "<div>\n",
       "<style scoped>\n",
       "    .dataframe tbody tr th:only-of-type {\n",
       "        vertical-align: middle;\n",
       "    }\n",
       "\n",
       "    .dataframe tbody tr th {\n",
       "        vertical-align: top;\n",
       "    }\n",
       "\n",
       "    .dataframe thead th {\n",
       "        text-align: right;\n",
       "    }\n",
       "</style>\n",
       "<table border=\"1\" class=\"dataframe\">\n",
       "  <thead>\n",
       "    <tr style=\"text-align: right;\">\n",
       "      <th></th>\n",
       "      <th>Fruits</th>\n",
       "      <th>Veggies</th>\n",
       "      <th>Diabetes_012</th>\n",
       "    </tr>\n",
       "  </thead>\n",
       "  <tbody>\n",
       "    <tr>\n",
       "      <th>202073</th>\n",
       "      <td>0.0</td>\n",
       "      <td>0.0</td>\n",
       "      <td>0.0</td>\n",
       "    </tr>\n",
       "    <tr>\n",
       "      <th>169745</th>\n",
       "      <td>1.0</td>\n",
       "      <td>1.0</td>\n",
       "      <td>0.0</td>\n",
       "    </tr>\n",
       "    <tr>\n",
       "      <th>4227</th>\n",
       "      <td>1.0</td>\n",
       "      <td>1.0</td>\n",
       "      <td>1.0</td>\n",
       "    </tr>\n",
       "    <tr>\n",
       "      <th>106925</th>\n",
       "      <td>0.0</td>\n",
       "      <td>0.0</td>\n",
       "      <td>0.0</td>\n",
       "    </tr>\n",
       "    <tr>\n",
       "      <th>71579</th>\n",
       "      <td>1.0</td>\n",
       "      <td>1.0</td>\n",
       "      <td>0.0</td>\n",
       "    </tr>\n",
       "  </tbody>\n",
       "</table>\n",
       "</div>"
      ],
      "text/plain": [
       "        Fruits  Veggies  Diabetes_012\n",
       "202073     0.0      0.0           0.0\n",
       "169745     1.0      1.0           0.0\n",
       "4227       1.0      1.0           1.0\n",
       "106925     0.0      0.0           0.0\n",
       "71579      1.0      1.0           0.0"
      ]
     },
     "execution_count": 2,
     "metadata": {},
     "output_type": "execute_result"
    }
   ],
   "source": [
    "import pandas as pd\n",
    "import numpy as np\n",
    "import matplotlib.pyplot as plt\n",
    "from sklearn import datasets\n",
    "from sklearn.model_selection import train_test_split\n",
    "from sklearn.linear_model import LogisticRegression\n",
    "from sklearn.feature_extraction.text import CountVectorizer\n",
    "from scipy.stats import spearmanr\n",
    "\n",
    "df = pd.read_csv(\"diabetes_012_health_indicators_BRFSS2015.csv\")\n",
    "df['Diabetes_012'].replace({2.0:1.0}, inplace = True)\n",
    "\n",
    "#Gathering the data \n",
    "#health_df = df[['HighBP', 'HighChol', 'BMI', 'Smoker', 'Stroke', 'HeartDiseaseorAttack', 'PhysActivity', 'Fruits', 'Veggies', 'HvyAlcoholConsump', 'GenHlth', 'PhysHlth', 'DiffWalk', 'Age', 'Education', 'Income', 'Diabetes_012']]\n",
    "\n",
    "#This is the dataset with all column names\n",
    "#oversample_copy = df[['HighBP', 'HighChol', 'CholCheck', 'BMI', 'Smoker', 'Stroke', 'HeartDiseaseorAttack', 'PhysActivity', 'Fruits', 'Veggies', 'HvyAlcoholConsump', 'AnyHealthcare', 'NoDocbcCost', 'GenHlth', 'MentHlth', 'PhysHlth', 'DiffWalk', 'Sex', 'Age', 'Education', 'Income', 'Diabetes_012']]\n",
    "oversample_copy = df[['Fruits', 'Veggies','Diabetes_012']]\n",
    "oversample_copy.sample(5)"
   ]
  },
  {
   "cell_type": "code",
   "execution_count": 3,
   "id": "e21a88df",
   "metadata": {},
   "outputs": [],
   "source": [
    "#Splitting into train then test set\n",
    "x_train, x_test, y_train, y_test = train_test_split(oversample_copy.drop('Diabetes_012', axis = 1), oversample_copy['Diabetes_012'], test_size = 0.15)\n",
    "#Splitting into train, validation, then test\n",
    "x_tr, x_val, y_tr, y_val = train_test_split(x_train, y_train, test_size = 0.15)"
   ]
  },
  {
   "cell_type": "code",
   "execution_count": 4,
   "id": "ab04923b",
   "metadata": {},
   "outputs": [],
   "source": [
    "# Now preparing data for OVERSAMPLING using SMOTE which uses K-means clustering\n",
    "x = x_tr\n",
    "y = y_tr"
   ]
  },
  {
   "cell_type": "code",
   "execution_count": 5,
   "id": "623d5603",
   "metadata": {},
   "outputs": [
    {
     "data": {
      "text/plain": [
       "0.0    154390\n",
       "1.0     28893\n",
       "Name: Diabetes_012, dtype: int64"
      ]
     },
     "execution_count": 5,
     "metadata": {},
     "output_type": "execute_result"
    }
   ],
   "source": [
    "y.value_counts()"
   ]
  },
  {
   "cell_type": "code",
   "execution_count": 6,
   "id": "994a5609",
   "metadata": {},
   "outputs": [
    {
     "data": {
      "text/plain": [
       "0.0    154390\n",
       "1.0    154390\n",
       "Name: Diabetes_012, dtype: int64"
      ]
     },
     "execution_count": 6,
     "metadata": {},
     "output_type": "execute_result"
    }
   ],
   "source": [
    "from imblearn.over_sampling import SMOTE\n",
    "smote = SMOTE(sampling_strategy = 'minority', k_neighbors = 15)\n",
    "X, Y = smote.fit_resample(x,y)\n",
    "Y.value_counts()"
   ]
  },
  {
   "cell_type": "code",
   "execution_count": 7,
   "id": "3b5582ee",
   "metadata": {},
   "outputs": [
    {
     "name": "stdout",
     "output_type": "stream",
     "text": [
      "Logistic Regression score: %56.48\n"
     ]
    }
   ],
   "source": [
    "LogReg = LogisticRegression(max_iter=1000).fit(X,Y)\n",
    "print(\"Logistic Regression score: %\" + str(round((LogReg.score(x_val,y_val)) * 100 , 2)))"
   ]
  },
  {
   "cell_type": "code",
   "execution_count": 8,
   "id": "8c00574d",
   "metadata": {},
   "outputs": [
    {
     "name": "stdout",
     "output_type": "stream",
     "text": [
      "[0. 0. 0. ... 0. 0. 0.]\n",
      "[1. 0. 0. ... 0. 1. 0.]\n"
     ]
    }
   ],
   "source": [
    "y_predict = LogReg.predict(x_test)\n",
    "print (y_test.values)\n",
    "print (y_predict)"
   ]
  },
  {
   "cell_type": "code",
   "execution_count": 9,
   "id": "f2af2c3f",
   "metadata": {},
   "outputs": [
    {
     "name": "stdout",
     "output_type": "stream",
     "text": [
      "              precision    recall  f1-score   support\n",
      "\n",
      "         0.0       0.86      0.57      0.69     31966\n",
      "         1.0       0.19      0.51      0.27      6086\n",
      "\n",
      "    accuracy                           0.56     38052\n",
      "   macro avg       0.52      0.54      0.48     38052\n",
      "weighted avg       0.75      0.56      0.62     38052\n",
      "\n"
     ]
    }
   ],
   "source": [
    "from sklearn.metrics import classification_report\n",
    "\n",
    "print(classification_report(y_test, y_predict))"
   ]
  },
  {
   "cell_type": "code",
   "execution_count": 10,
   "id": "87e24ca7",
   "metadata": {},
   "outputs": [
    {
     "name": "stdout",
     "output_type": "stream",
     "text": [
      "[[18312 13654]\n",
      " [ 2956  3130]]\n"
     ]
    }
   ],
   "source": [
    "from sklearn.metrics import confusion_matrix\n",
    "print(confusion_matrix(y_test, y_predict))"
   ]
  },
  {
   "cell_type": "code",
   "execution_count": 11,
   "id": "0d01413f",
   "metadata": {},
   "outputs": [
    {
     "name": "stdout",
     "output_type": "stream",
     "text": [
      "The amount of True Positives are: 3130\n",
      "The amount of True Negatives are: 18312\n"
     ]
    }
   ],
   "source": [
    "#[ True Negative False positive] \n",
    "#[ False Negative True Positive ]\n",
    "array = (confusion_matrix(y_test, y_predict))\n",
    "print (\"The amount of True Positives are: \" + str(array[1][1]))\n",
    "print (\"The amount of True Negatives are: \" + str(array[0][0]))"
   ]
  },
  {
   "cell_type": "code",
   "execution_count": 12,
   "id": "4b5041c5",
   "metadata": {},
   "outputs": [
    {
     "data": {
      "text/plain": [
       "1.0"
      ]
     },
     "execution_count": 12,
     "metadata": {},
     "output_type": "execute_result"
    }
   ],
   "source": [
    "#PREDICTION\n",
    "Fruits_ = 1 # 0 = no, 1 = yes (Eat Fruits?)\n",
    "Veggies_ = 0 # 0 = no, 1 = yes (Eat veggies?)\n",
    "LogReg.predict(np.array([[Fruits_, Veggies_]]))[0]\n",
    "# 0 = No Diabetes, 1 = Diabetes"
   ]
  },
  {
   "cell_type": "code",
   "execution_count": 14,
   "id": "6a10d90b",
   "metadata": {},
   "outputs": [
    {
     "name": "stdout",
     "output_type": "stream",
     "text": [
      "For Fruits, correlation with fruits: 1.0\n",
      "For Veggies, correlation with fruits: 0.25434224443197606\n",
      "For PhysActivity, correlation with fruits: 0.1427558627380735\n",
      "For Education, correlation with fruits: 0.11492851122865408\n",
      "For Income, correlation with fruits: 0.07641482388218547\n",
      "For Age, correlation with fruits: 0.06693417991910805\n",
      "For AnyHealthcare, correlation with fruits: 0.03154391879221864\n",
      "For CholCheck, correlation with fruits: 0.023849406401563314\n",
      "For Stroke, correlation with fruits: -0.013389353021372062\n",
      "For HeartDiseaseorAttack, correlation with fruits: -0.019790347908616793\n",
      "For HvyAlcoholConsump, correlation with fruits: -0.035287732906116885\n",
      "For HighBP, correlation with fruits: -0.0405546586179681\n",
      "For HighChol, correlation with fruits: -0.04085908133163381\n",
      "For NoDocbcCost, correlation with fruits: -0.04424268944660032\n",
      "For PhysHlth, correlation with fruits: -0.04527815403860908\n",
      "For DiffWalk, correlation with fruits: -0.04835167462915144\n",
      "For MentHlth, correlation with fruits: -0.06415281012556859\n",
      "For Smoker, correlation with fruits: -0.0776658386107574\n",
      "For Sex, correlation with fruits: -0.0911748653323456\n",
      "For BMI, correlation with fruits: -0.09606687450712045\n",
      "For GenHlth, correlation with fruits: -0.1054736989032699\n"
     ]
    }
   ],
   "source": [
    "# Checking correlation with all features\n",
    "Diabetes = df['Fruits']\n",
    "#Every single column is in this array\n",
    "column_array = ['HighBP', 'HighChol', 'CholCheck', 'BMI', 'Smoker', 'Stroke', 'HeartDiseaseorAttack', 'PhysActivity', 'Fruits', 'Veggies', 'HvyAlcoholConsump', 'AnyHealthcare', 'NoDocbcCost', 'GenHlth', 'MentHlth', 'PhysHlth', 'DiffWalk', 'Sex', 'Age', 'Education', 'Income']\n",
    "all_correlations = []\n",
    "for i in range (len(column_array)):\n",
    "    current_index = df[column_array[i]]\n",
    "    spearmanr_coefficient, p_value = spearmanr(Diabetes, current_index)\n",
    "    all_correlations.append([column_array[i], spearmanr_coefficient])\n",
    "\n",
    "all_correlations.sort(key = lambda all_correlations : all_correlations[1], reverse = True)\n",
    "for i in range(len(all_correlations)):\n",
    "    print(\"For \" + str(all_correlations[i][0]) + ', correlation with fruits: ' + str(all_correlations[i][1]))"
   ]
  },
  {
   "cell_type": "code",
   "execution_count": null,
   "id": "e8b77fd6",
   "metadata": {},
   "outputs": [],
   "source": []
  },
  {
   "cell_type": "code",
   "execution_count": null,
   "id": "08569c66",
   "metadata": {},
   "outputs": [],
   "source": []
  }
 ],
 "metadata": {
  "kernelspec": {
   "display_name": "Python 3 (ipykernel)",
   "language": "python",
   "name": "python3"
  },
  "language_info": {
   "codemirror_mode": {
    "name": "ipython",
    "version": 3
   },
   "file_extension": ".py",
   "mimetype": "text/x-python",
   "name": "python",
   "nbconvert_exporter": "python",
   "pygments_lexer": "ipython3",
   "version": "3.9.7"
  }
 },
 "nbformat": 4,
 "nbformat_minor": 5
}
