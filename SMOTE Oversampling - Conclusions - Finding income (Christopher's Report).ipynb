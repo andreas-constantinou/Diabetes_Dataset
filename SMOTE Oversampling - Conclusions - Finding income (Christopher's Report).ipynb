{
 "cells": [
  {
   "cell_type": "code",
   "execution_count": 18,
   "id": "9ca56e45",
   "metadata": {},
   "outputs": [
    {
     "data": {
      "text/html": [
       "<div>\n",
       "<style scoped>\n",
       "    .dataframe tbody tr th:only-of-type {\n",
       "        vertical-align: middle;\n",
       "    }\n",
       "\n",
       "    .dataframe tbody tr th {\n",
       "        vertical-align: top;\n",
       "    }\n",
       "\n",
       "    .dataframe thead th {\n",
       "        text-align: right;\n",
       "    }\n",
       "</style>\n",
       "<table border=\"1\" class=\"dataframe\">\n",
       "  <thead>\n",
       "    <tr style=\"text-align: right;\">\n",
       "      <th></th>\n",
       "      <th>HighBP</th>\n",
       "      <th>HighChol</th>\n",
       "      <th>BMI</th>\n",
       "      <th>Stroke</th>\n",
       "      <th>PhysActivity</th>\n",
       "      <th>Veggies</th>\n",
       "      <th>GenHlth</th>\n",
       "      <th>PhysHlth</th>\n",
       "      <th>DiffWalk</th>\n",
       "      <th>Age</th>\n",
       "      <th>Education</th>\n",
       "      <th>Income</th>\n",
       "      <th>Diabetes_012</th>\n",
       "    </tr>\n",
       "  </thead>\n",
       "  <tbody>\n",
       "    <tr>\n",
       "      <th>0</th>\n",
       "      <td>1.0</td>\n",
       "      <td>1.0</td>\n",
       "      <td>2.0</td>\n",
       "      <td>0.0</td>\n",
       "      <td>0.0</td>\n",
       "      <td>1.0</td>\n",
       "      <td>5.0</td>\n",
       "      <td>15.0</td>\n",
       "      <td>1.0</td>\n",
       "      <td>1.0</td>\n",
       "      <td>4.0</td>\n",
       "      <td>0.0</td>\n",
       "      <td>0.0</td>\n",
       "    </tr>\n",
       "    <tr>\n",
       "      <th>1</th>\n",
       "      <td>0.0</td>\n",
       "      <td>0.0</td>\n",
       "      <td>1.0</td>\n",
       "      <td>0.0</td>\n",
       "      <td>1.0</td>\n",
       "      <td>0.0</td>\n",
       "      <td>3.0</td>\n",
       "      <td>0.0</td>\n",
       "      <td>0.0</td>\n",
       "      <td>1.0</td>\n",
       "      <td>6.0</td>\n",
       "      <td>0.0</td>\n",
       "      <td>0.0</td>\n",
       "    </tr>\n",
       "    <tr>\n",
       "      <th>2</th>\n",
       "      <td>1.0</td>\n",
       "      <td>1.0</td>\n",
       "      <td>1.0</td>\n",
       "      <td>0.0</td>\n",
       "      <td>0.0</td>\n",
       "      <td>0.0</td>\n",
       "      <td>5.0</td>\n",
       "      <td>30.0</td>\n",
       "      <td>1.0</td>\n",
       "      <td>1.0</td>\n",
       "      <td>4.0</td>\n",
       "      <td>2.0</td>\n",
       "      <td>0.0</td>\n",
       "    </tr>\n",
       "    <tr>\n",
       "      <th>3</th>\n",
       "      <td>1.0</td>\n",
       "      <td>0.0</td>\n",
       "      <td>1.0</td>\n",
       "      <td>0.0</td>\n",
       "      <td>1.0</td>\n",
       "      <td>1.0</td>\n",
       "      <td>2.0</td>\n",
       "      <td>0.0</td>\n",
       "      <td>0.0</td>\n",
       "      <td>1.0</td>\n",
       "      <td>3.0</td>\n",
       "      <td>1.0</td>\n",
       "      <td>0.0</td>\n",
       "    </tr>\n",
       "    <tr>\n",
       "      <th>4</th>\n",
       "      <td>1.0</td>\n",
       "      <td>1.0</td>\n",
       "      <td>1.0</td>\n",
       "      <td>0.0</td>\n",
       "      <td>1.0</td>\n",
       "      <td>1.0</td>\n",
       "      <td>2.0</td>\n",
       "      <td>0.0</td>\n",
       "      <td>0.0</td>\n",
       "      <td>1.0</td>\n",
       "      <td>5.0</td>\n",
       "      <td>0.0</td>\n",
       "      <td>0.0</td>\n",
       "    </tr>\n",
       "  </tbody>\n",
       "</table>\n",
       "</div>"
      ],
      "text/plain": [
       "   HighBP  HighChol  BMI  Stroke  PhysActivity  Veggies  GenHlth  PhysHlth  \\\n",
       "0     1.0       1.0  2.0     0.0           0.0      1.0      5.0      15.0   \n",
       "1     0.0       0.0  1.0     0.0           1.0      0.0      3.0       0.0   \n",
       "2     1.0       1.0  1.0     0.0           0.0      0.0      5.0      30.0   \n",
       "3     1.0       0.0  1.0     0.0           1.0      1.0      2.0       0.0   \n",
       "4     1.0       1.0  1.0     0.0           1.0      1.0      2.0       0.0   \n",
       "\n",
       "   DiffWalk  Age  Education  Income  Diabetes_012  \n",
       "0       1.0  1.0        4.0     0.0           0.0  \n",
       "1       0.0  1.0        6.0     0.0           0.0  \n",
       "2       1.0  1.0        4.0     2.0           0.0  \n",
       "3       0.0  1.0        3.0     1.0           0.0  \n",
       "4       0.0  1.0        5.0     0.0           0.0  "
      ]
     },
     "execution_count": 18,
     "metadata": {},
     "output_type": "execute_result"
    }
   ],
   "source": [
    "import pandas as pd\n",
    "import numpy as np\n",
    "import matplotlib.pyplot as plt\n",
    "from sklearn import datasets\n",
    "from sklearn.model_selection import train_test_split\n",
    "from sklearn.linear_model import LogisticRegression\n",
    "from sklearn.feature_extraction.text import CountVectorizer\n",
    "from scipy.stats import spearmanr\n",
    "\n",
    "df = pd.read_csv(\"diabetes_012.csv\")\n",
    "df['Diabetes_012'].replace({2.0:1.0}, inplace = True)\n",
    "\n",
    "####################THIS IS WHERE YOU CHANGE THE THRESHOLD##################################\n",
    "df['Income'] = np.where(df['Income'].between(0,4), 0, df['Income']) ## Low income\n",
    "df['Income'] = np.where(df['Income'].between(5,7), 1, df['Income']) ## Middle Income\n",
    "df['Income'] = np.where(df['Income'].between(8,10), 2, df['Income'])## High Income\n",
    "############################################################################################\n",
    "\n",
    "####################THIS IS WHERE YOU CHANGE THE THRESHOLD##################################\n",
    "df['BMI'] = np.where(df['BMI'].between(1,19), 0, df['BMI']) \n",
    "df['BMI'] = np.where(df['BMI'].between(20,29), 1, df['BMI']) \n",
    "df['BMI'] = np.where(df['BMI'].between(30,50), 2, df['BMI']) \n",
    "############################################################################################\n",
    "\n",
    "####################THIS IS WHERE YOU CHANGE THE THRESHOLD##################################\n",
    "df['Age'] = np.where(df['Age'].between(1,6), 0, df['Age']) #Between and including 1 and 6\n",
    "df['Age'] = np.where(df['Age'].between(7,13), 1, df['Age']) #Between and including 7 and 13\n",
    "############################################################################################\n",
    "\n",
    "\n",
    "#Gathering the data \n",
    "#health_df = df[['HighBP', 'HighChol', 'BMI', 'Smoker', 'Stroke', 'HeartDiseaseorAttack', 'PhysActivity', 'Fruits', 'Veggies', 'HvyAlcoholConsump', 'GenHlth', 'PhysHlth', 'DiffWalk', 'Age', 'Education', 'Income', 'Diabetes_012']]\n",
    "\n",
    "#This is the dataset with all column names\n",
    "#oversample_copy = df[['HighBP', 'HighChol', 'CholCheck', 'BMI', 'Smoker', 'Stroke', 'HeartDiseaseorAttack', 'PhysActivity', 'Fruits', 'Veggies', 'HvyAlcoholConsump', 'AnyHealthcare', 'NoDocbcCost', 'GenHlth', 'MentHlth', 'PhysHlth', 'DiffWalk', 'Sex', 'Age', 'Education', 'Income', 'Diabetes_012']]\n",
    "oversample_copy = df[['HighBP', 'HighChol', 'BMI', 'Stroke', 'PhysActivity', 'Veggies', 'GenHlth',  'PhysHlth', 'DiffWalk', 'Age', 'Education', 'Income', 'Diabetes_012']]\n",
    "oversample_copy.head(5)"
   ]
  },
  {
   "cell_type": "code",
   "execution_count": 19,
   "id": "a46353d2",
   "metadata": {},
   "outputs": [
    {
     "name": "stdout",
     "output_type": "stream",
     "text": [
      "For Education, correlation with Income: 0.4332052033594809\n",
      "For PhysActivity, correlation with Income: 0.19357174332317637\n",
      "For AnyHealthcare, correlation with Income: 0.14728840446109592\n",
      "For Veggies, correlation with Income: 0.14284525156705877\n",
      "For Sex, correlation with Income: 0.12095589046051274\n",
      "For Fruits, correlation with Income: 0.07274838056031648\n",
      "For HvyAlcoholConsump, correlation with Income: 0.05267018850920241\n",
      "For CholCheck, correlation with Income: 0.01530619757477755\n",
      "For BMI, correlation with Income: -0.08322559798247522\n",
      "For HighChol, correlation with Income: -0.08526246560839536\n",
      "For Age, correlation with Income: -0.10383297153683932\n",
      "For Stroke, correlation with Income: -0.11694990771684803\n",
      "For Smoker, correlation with Income: -0.12959407068386614\n",
      "For HeartDiseaseorAttack, correlation with Income: -0.13501824151421105\n",
      "For MentHlth, correlation with Income: -0.13855734373451825\n",
      "For Diabetes_012, correlation with Income: -0.1653151662138818\n",
      "For HighBP, correlation with Income: -0.17233766491937558\n",
      "For NoDocbcCost, correlation with Income: -0.1878608923704623\n",
      "For PhysHlth, correlation with Income: -0.2075445243409682\n",
      "For DiffWalk, correlation with Income: -0.28734835351435856\n",
      "For GenHlth, correlation with Income: -0.33890205562780606\n"
     ]
    }
   ],
   "source": [
    "Income = df['Income']\n",
    "#Every single column is in this array\n",
    "column_array = ['HighBP', 'HighChol', 'CholCheck', 'BMI', 'Smoker', 'Stroke', 'HeartDiseaseorAttack', 'PhysActivity', 'Fruits', 'Veggies', 'HvyAlcoholConsump', 'AnyHealthcare', 'NoDocbcCost', 'GenHlth', 'MentHlth', 'PhysHlth', 'DiffWalk', 'Sex', 'Age', 'Education', 'Diabetes_012']\n",
    "all_correlations = []\n",
    "for i in range (len(column_array)):\n",
    "    current_index = df[column_array[i]]\n",
    "    spearmanr_coefficient, p_value = spearmanr(Income, current_index)\n",
    "    all_correlations.append([column_array[i], spearmanr_coefficient])\n",
    "\n",
    "all_correlations.sort(key = lambda all_correlations : all_correlations[1], reverse = True)\n",
    "for i in range(len(all_correlations)):\n",
    "    print(\"For \" + str(all_correlations[i][0]) + ', correlation with Income: ' + str(all_correlations[i][1]))"
   ]
  },
  {
   "cell_type": "code",
   "execution_count": 20,
   "id": "3d395704",
   "metadata": {},
   "outputs": [
    {
     "data": {
      "text/plain": [
       "Text(0, 0.5, 'Correlation Number Value')"
      ]
     },
     "execution_count": 20,
     "metadata": {},
     "output_type": "execute_result"
    },
    {
     "data": {
      "image/png": "[encoded data removed]",
      "text/plain": [
       "<Figure size 1440x720 with 1 Axes>"
      ]
     },
     "metadata": {
      "needs_background": "light"
     },
     "output_type": "display_data"
    }
   ],
   "source": [
    "x = []\n",
    "y = []\n",
    "for i in range(len(all_correlations)):\n",
    "    x.append(all_correlations[i][0])\n",
    "    y.append(all_correlations[i][1])\n",
    "\n",
    "plt.figure(figsize = (20,10))\n",
    "plt.bar(x,y)\n",
    "plt.xlabel(\"Features\")\n",
    "plt.ylabel(\"Correlation Number Value\")"
   ]
  },
  {
   "cell_type": "code",
   "execution_count": 21,
   "id": "cb5a7970",
   "metadata": {},
   "outputs": [
    {
     "data": {
      "text/plain": [
       "<AxesSubplot:>"
      ]
     },
     "execution_count": 21,
     "metadata": {},
     "output_type": "execute_result"
    },
    {
     "data": {
      "image/png": "[encoded data removed]",
      "text/plain": [
       "<Figure size 864x504 with 1 Axes>"
      ]
     },
     "metadata": {
      "needs_background": "light"
     },
     "output_type": "display_data"
    }
   ],
   "source": [
    "plotdata = pd.DataFrame(\n",
    "    {\"Correlation Value\": y}, \n",
    "    index=x)\n",
    "# Plot a bar chart\n",
    "plotdata.plot(kind=\"barh\", figsize = (12,7))"
   ]
  },
  {
   "cell_type": "code",
   "execution_count": 22,
   "id": "e21a88df",
   "metadata": {},
   "outputs": [],
   "source": [
    "#Splitting into train then test set\n",
    "x_train, x_test, y_train, y_test = train_test_split(oversample_copy.drop('Income', axis = 1), oversample_copy['Income'], test_size = 0.15)\n",
    "#Splitting into train, validation, then test\n",
    "x_tr, x_val, y_tr, y_val = train_test_split(x_train, y_train, test_size = 0.15)"
   ]
  },
  {
   "cell_type": "code",
   "execution_count": 23,
   "id": "ab04923b",
   "metadata": {},
   "outputs": [],
   "source": [
    "# Now preparing data for OVERSAMPLING using SMOTE which uses K-means clustering\n",
    "x = x_tr\n",
    "y = y_tr"
   ]
  },
  {
   "cell_type": "code",
   "execution_count": 24,
   "id": "623d5603",
   "metadata": {},
   "outputs": [
    {
     "data": {
      "text/plain": [
       "1.0    76179\n",
       "2.0    65396\n",
       "0.0    41708\n",
       "Name: Income, dtype: int64"
      ]
     },
     "execution_count": 24,
     "metadata": {},
     "output_type": "execute_result"
    }
   ],
   "source": [
    "y.value_counts()"
   ]
  },
  {
   "cell_type": "code",
   "execution_count": 25,
   "id": "994a5609",
   "metadata": {},
   "outputs": [
    {
     "data": {
      "text/plain": [
       "1.0    76179\n",
       "0.0    76179\n",
       "2.0    65396\n",
       "Name: Income, dtype: int64"
      ]
     },
     "execution_count": 25,
     "metadata": {},
     "output_type": "execute_result"
    }
   ],
   "source": [
    "from imblearn.over_sampling import SMOTE\n",
    "smote = SMOTE(sampling_strategy = 'minority', k_neighbors = 15)\n",
    "X, Y = smote.fit_resample(x,y)\n",
    "Y.value_counts()"
   ]
  },
  {
   "cell_type": "code",
   "execution_count": 26,
   "id": "3b5582ee",
   "metadata": {},
   "outputs": [
    {
     "name": "stdout",
     "output_type": "stream",
     "text": [
      "Logistic Regression score: %51.88\n"
     ]
    }
   ],
   "source": [
    "LogReg = LogisticRegression(max_iter=1000).fit(X,Y)\n",
    "print(\"Logistic Regression score: %\" + str(round((LogReg.score(x_val,y_val)) * 100 , 2)))"
   ]
  },
  {
   "cell_type": "code",
   "execution_count": 27,
   "id": "8c00574d",
   "metadata": {},
   "outputs": [
    {
     "name": "stdout",
     "output_type": "stream",
     "text": [
      "[0. 1. 1. ... 1. 2. 1.]\n",
      "[0. 0. 1. ... 0. 1. 2.]\n"
     ]
    }
   ],
   "source": [
    "y_predict = LogReg.predict(x_test)\n",
    "print (y_test.values)\n",
    "print (y_predict)"
   ]
  },
  {
   "cell_type": "code",
   "execution_count": 28,
   "id": "f2af2c3f",
   "metadata": {},
   "outputs": [
    {
     "name": "stdout",
     "output_type": "stream",
     "text": [
      "              precision    recall  f1-score   support\n",
      "\n",
      "         0.0       0.46      0.65      0.54      8684\n",
      "         1.0       0.51      0.35      0.42     15809\n",
      "         2.0       0.58      0.65      0.62     13559\n",
      "\n",
      "    accuracy                           0.52     38052\n",
      "   macro avg       0.52      0.55      0.52     38052\n",
      "weighted avg       0.53      0.52      0.52     38052\n",
      "\n"
     ]
    }
   ],
   "source": [
    "from sklearn.metrics import classification_report\n",
    "\n",
    "print(classification_report(y_test, y_predict))"
   ]
  },
  {
   "cell_type": "code",
   "execution_count": 29,
   "id": "87e24ca7",
   "metadata": {},
   "outputs": [
    {
     "name": "stdout",
     "output_type": "stream",
     "text": [
      "[[5616 2050 1018]\n",
      " [5036 5550 5223]\n",
      " [1516 3246 8797]]\n"
     ]
    }
   ],
   "source": [
    "from sklearn.metrics import confusion_matrix\n",
    "print(confusion_matrix(y_test, y_predict))"
   ]
  },
  {
   "cell_type": "code",
   "execution_count": 30,
   "id": "0d01413f",
   "metadata": {},
   "outputs": [
    {
     "name": "stdout",
     "output_type": "stream",
     "text": [
      "The amount of True Positives are: 5550\n",
      "The amount of True Negatives are: 5616\n"
     ]
    }
   ],
   "source": [
    "#[ True Negative False positive] \n",
    "#[ False Negative True Positive ]\n",
    "array = (confusion_matrix(y_test, y_predict))\n",
    "print (\"The amount of True Positives are: \" + str(array[1][1]))\n",
    "print (\"The amount of True Negatives are: \" + str(array[0][0]))"
   ]
  },
  {
   "cell_type": "code",
   "execution_count": 31,
   "id": "720113c6",
   "metadata": {},
   "outputs": [
    {
     "data": {
      "text/html": [
       "<div>\n",
       "<style scoped>\n",
       "    .dataframe tbody tr th:only-of-type {\n",
       "        vertical-align: middle;\n",
       "    }\n",
       "\n",
       "    .dataframe tbody tr th {\n",
       "        vertical-align: top;\n",
       "    }\n",
       "\n",
       "    .dataframe thead th {\n",
       "        text-align: right;\n",
       "    }\n",
       "</style>\n",
       "<table border=\"1\" class=\"dataframe\">\n",
       "  <thead>\n",
       "    <tr style=\"text-align: right;\">\n",
       "      <th></th>\n",
       "      <th>HighBP</th>\n",
       "      <th>HighChol</th>\n",
       "      <th>BMI</th>\n",
       "      <th>Stroke</th>\n",
       "      <th>PhysActivity</th>\n",
       "      <th>Veggies</th>\n",
       "      <th>GenHlth</th>\n",
       "      <th>PhysHlth</th>\n",
       "      <th>DiffWalk</th>\n",
       "      <th>Age</th>\n",
       "      <th>Education</th>\n",
       "      <th>Income</th>\n",
       "      <th>Diabetes_012</th>\n",
       "    </tr>\n",
       "  </thead>\n",
       "  <tbody>\n",
       "    <tr>\n",
       "      <th>0</th>\n",
       "      <td>1.0</td>\n",
       "      <td>1.0</td>\n",
       "      <td>2.0</td>\n",
       "      <td>0.0</td>\n",
       "      <td>0.0</td>\n",
       "      <td>1.0</td>\n",
       "      <td>5.0</td>\n",
       "      <td>15.0</td>\n",
       "      <td>1.0</td>\n",
       "      <td>1.0</td>\n",
       "      <td>4.0</td>\n",
       "      <td>0.0</td>\n",
       "      <td>0.0</td>\n",
       "    </tr>\n",
       "    <tr>\n",
       "      <th>1</th>\n",
       "      <td>0.0</td>\n",
       "      <td>0.0</td>\n",
       "      <td>1.0</td>\n",
       "      <td>0.0</td>\n",
       "      <td>1.0</td>\n",
       "      <td>0.0</td>\n",
       "      <td>3.0</td>\n",
       "      <td>0.0</td>\n",
       "      <td>0.0</td>\n",
       "      <td>1.0</td>\n",
       "      <td>6.0</td>\n",
       "      <td>0.0</td>\n",
       "      <td>0.0</td>\n",
       "    </tr>\n",
       "    <tr>\n",
       "      <th>2</th>\n",
       "      <td>1.0</td>\n",
       "      <td>1.0</td>\n",
       "      <td>1.0</td>\n",
       "      <td>0.0</td>\n",
       "      <td>0.0</td>\n",
       "      <td>0.0</td>\n",
       "      <td>5.0</td>\n",
       "      <td>30.0</td>\n",
       "      <td>1.0</td>\n",
       "      <td>1.0</td>\n",
       "      <td>4.0</td>\n",
       "      <td>2.0</td>\n",
       "      <td>0.0</td>\n",
       "    </tr>\n",
       "    <tr>\n",
       "      <th>3</th>\n",
       "      <td>1.0</td>\n",
       "      <td>0.0</td>\n",
       "      <td>1.0</td>\n",
       "      <td>0.0</td>\n",
       "      <td>1.0</td>\n",
       "      <td>1.0</td>\n",
       "      <td>2.0</td>\n",
       "      <td>0.0</td>\n",
       "      <td>0.0</td>\n",
       "      <td>1.0</td>\n",
       "      <td>3.0</td>\n",
       "      <td>1.0</td>\n",
       "      <td>0.0</td>\n",
       "    </tr>\n",
       "    <tr>\n",
       "      <th>4</th>\n",
       "      <td>1.0</td>\n",
       "      <td>1.0</td>\n",
       "      <td>1.0</td>\n",
       "      <td>0.0</td>\n",
       "      <td>1.0</td>\n",
       "      <td>1.0</td>\n",
       "      <td>2.0</td>\n",
       "      <td>0.0</td>\n",
       "      <td>0.0</td>\n",
       "      <td>1.0</td>\n",
       "      <td>5.0</td>\n",
       "      <td>0.0</td>\n",
       "      <td>0.0</td>\n",
       "    </tr>\n",
       "  </tbody>\n",
       "</table>\n",
       "</div>"
      ],
      "text/plain": [
       "   HighBP  HighChol  BMI  Stroke  PhysActivity  Veggies  GenHlth  PhysHlth  \\\n",
       "0     1.0       1.0  2.0     0.0           0.0      1.0      5.0      15.0   \n",
       "1     0.0       0.0  1.0     0.0           1.0      0.0      3.0       0.0   \n",
       "2     1.0       1.0  1.0     0.0           0.0      0.0      5.0      30.0   \n",
       "3     1.0       0.0  1.0     0.0           1.0      1.0      2.0       0.0   \n",
       "4     1.0       1.0  1.0     0.0           1.0      1.0      2.0       0.0   \n",
       "\n",
       "   DiffWalk  Age  Education  Income  Diabetes_012  \n",
       "0       1.0  1.0        4.0     0.0           0.0  \n",
       "1       0.0  1.0        6.0     0.0           0.0  \n",
       "2       1.0  1.0        4.0     2.0           0.0  \n",
       "3       0.0  1.0        3.0     1.0           0.0  \n",
       "4       0.0  1.0        5.0     0.0           0.0  "
      ]
     },
     "execution_count": 31,
     "metadata": {},
     "output_type": "execute_result"
    }
   ],
   "source": [
    "oversample_copy.head(5)"
   ]
  },
  {
   "cell_type": "code",
   "execution_count": 32,
   "id": "4b5041c5",
   "metadata": {},
   "outputs": [
    {
     "name": "stdout",
     "output_type": "stream",
     "text": [
      "Income: 1.0\n"
     ]
    },
    {
     "name": "stderr",
     "output_type": "stream",
     "text": [
      "C:\\Users\\ccpin\\anaconda3\\lib\\site-packages\\sklearn\\base.py:450: UserWarning: X does not have valid feature names, but LogisticRegression was fitted with feature names\n",
      "  warnings.warn(\n"
     ]
    }
   ],
   "source": [
    "#                        HighChol    HighBP    DiffWalk    CholCheck     Smoker     HeartDisease\n",
    "#list_1 = np.array([[        1,         1,         1,           1,          0,            0        ]])\n",
    "#                      PhysActivity  Fruits    Alcohol      DiffWalk      Sex           age\n",
    "#list_2 = np.array([[        0,         0,         0,           0,          0,            0        ]])\n",
    "\n",
    "#oversample_copy = df[['HighBP', 'HighChol', 'BMI', 'Stroke', 'PhysActivity', 'Veggies', 'GenHlth',  'PhysHlth', 'DiffWalk', 'Age', 'Education', 'Diabetes',]]\n",
    "\n",
    "list_3 = np.array([[      0,         0,        1,       0,           0,           1,         4,           0,         0,        1,        6,          0]])\n",
    "\n",
    "\n",
    "prediction = LogReg.predict(list_3)[0]\n",
    "print(\"Income: \" + str(prediction))"
   ]
  },
  {
   "cell_type": "code",
   "execution_count": null,
   "id": "6a10d90b",
   "metadata": {},
   "outputs": [],
   "source": []
  }
 ],
 "metadata": {
  "kernelspec": {
   "display_name": "Python 3 (ipykernel)",
   "language": "python",
   "name": "python3"
  },
  "language_info": {
   "codemirror_mode": {
    "name": "ipython",
    "version": 3
   },
   "file_extension": ".py",
   "mimetype": "text/x-python",
   "name": "python",
   "nbconvert_exporter": "python",
   "pygments_lexer": "ipython3",
   "version": "3.9.7"
  }
 },
 "nbformat": 4,
 "nbformat_minor": 5
}
