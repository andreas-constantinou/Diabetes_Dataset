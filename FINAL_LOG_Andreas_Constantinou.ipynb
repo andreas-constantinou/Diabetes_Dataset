{
 "cells": [
  {
   "cell_type": "code",
   "execution_count": 1,
   "id": "f4f20272",
   "metadata": {},
   "outputs": [
    {
     "data": {
      "text/html": [
       "<div>\n",
       "<style scoped>\n",
       "    .dataframe tbody tr th:only-of-type {\n",
       "        vertical-align: middle;\n",
       "    }\n",
       "\n",
       "    .dataframe tbody tr th {\n",
       "        vertical-align: top;\n",
       "    }\n",
       "\n",
       "    .dataframe thead th {\n",
       "        text-align: right;\n",
       "    }\n",
       "</style>\n",
       "<table border=\"1\" class=\"dataframe\">\n",
       "  <thead>\n",
       "    <tr style=\"text-align: right;\">\n",
       "      <th></th>\n",
       "      <th>HighBP</th>\n",
       "      <th>HighChol</th>\n",
       "      <th>Diabetes_012</th>\n",
       "    </tr>\n",
       "  </thead>\n",
       "  <tbody>\n",
       "    <tr>\n",
       "      <th>140531</th>\n",
       "      <td>0.0</td>\n",
       "      <td>0.0</td>\n",
       "      <td>0.0</td>\n",
       "    </tr>\n",
       "    <tr>\n",
       "      <th>253184</th>\n",
       "      <td>0.0</td>\n",
       "      <td>1.0</td>\n",
       "      <td>0.0</td>\n",
       "    </tr>\n",
       "    <tr>\n",
       "      <th>94015</th>\n",
       "      <td>1.0</td>\n",
       "      <td>0.0</td>\n",
       "      <td>0.0</td>\n",
       "    </tr>\n",
       "    <tr>\n",
       "      <th>24946</th>\n",
       "      <td>1.0</td>\n",
       "      <td>1.0</td>\n",
       "      <td>1.0</td>\n",
       "    </tr>\n",
       "    <tr>\n",
       "      <th>218434</th>\n",
       "      <td>1.0</td>\n",
       "      <td>0.0</td>\n",
       "      <td>0.0</td>\n",
       "    </tr>\n",
       "    <tr>\n",
       "      <th>148268</th>\n",
       "      <td>1.0</td>\n",
       "      <td>1.0</td>\n",
       "      <td>0.0</td>\n",
       "    </tr>\n",
       "    <tr>\n",
       "      <th>806</th>\n",
       "      <td>0.0</td>\n",
       "      <td>1.0</td>\n",
       "      <td>0.0</td>\n",
       "    </tr>\n",
       "    <tr>\n",
       "      <th>182253</th>\n",
       "      <td>0.0</td>\n",
       "      <td>1.0</td>\n",
       "      <td>1.0</td>\n",
       "    </tr>\n",
       "    <tr>\n",
       "      <th>196124</th>\n",
       "      <td>0.0</td>\n",
       "      <td>0.0</td>\n",
       "      <td>0.0</td>\n",
       "    </tr>\n",
       "    <tr>\n",
       "      <th>28239</th>\n",
       "      <td>0.0</td>\n",
       "      <td>0.0</td>\n",
       "      <td>0.0</td>\n",
       "    </tr>\n",
       "  </tbody>\n",
       "</table>\n",
       "</div>"
      ],
      "text/plain": [
       "        HighBP  HighChol  Diabetes_012\n",
       "140531     0.0       0.0           0.0\n",
       "253184     0.0       1.0           0.0\n",
       "94015      1.0       0.0           0.0\n",
       "24946      1.0       1.0           1.0\n",
       "218434     1.0       0.0           0.0\n",
       "148268     1.0       1.0           0.0\n",
       "806        0.0       1.0           0.0\n",
       "182253     0.0       1.0           1.0\n",
       "196124     0.0       0.0           0.0\n",
       "28239      0.0       0.0           0.0"
      ]
     },
     "execution_count": 1,
     "metadata": {},
     "output_type": "execute_result"
    }
   ],
   "source": [
    "#Andreas Constantinou\n",
    "import pandas as pd\n",
    "import numpy as np\n",
    "import matplotlib.pyplot as plt\n",
    "from sklearn import datasets\n",
    "from sklearn.model_selection import train_test_split\n",
    "from sklearn.linear_model import LogisticRegression\n",
    "from sklearn.feature_extraction.text import CountVectorizer\n",
    "from scipy.stats import spearmanr\n",
    "\n",
    "df = pd.read_csv(\"diabetes_012.csv\")\n",
    "df['Diabetes_012'].replace({2.0:1.0}, inplace = True)\n",
    "oversample_copy = df[[ 'HighBP', 'HighChol', 'Diabetes_012']]\n",
    "oversample_copy.sample(10)\n"
   ]
  },
  {
   "cell_type": "code",
   "execution_count": 2,
   "id": "ba8ea47d",
   "metadata": {},
   "outputs": [],
   "source": [
    "x_train, x_test, y_train, y_test = train_test_split(oversample_copy[['HighBP', 'HighChol']], oversample_copy['Diabetes_012'], test_size = .15, train_size = .85)\n",
    "x_train2, x_val, y_train2, y_val = train_test_split(x_train,y_train, test_size = .15, train_size = .85)"
   ]
  },
  {
   "cell_type": "code",
   "execution_count": 3,
   "id": "2c461dc2",
   "metadata": {},
   "outputs": [
    {
     "name": "stdout",
     "output_type": "stream",
     "text": [
      "For HighBP, correlation with diabetes: 1.0\n",
      "For Age, correlation with diabetes: 0.34453457401969934\n",
      "For GenHlth, correlation with diabetes: 0.3033004153206846\n",
      "For HighChol, correlation with diabetes: 0.29819929508040555\n",
      "For BMI, correlation with diabetes: 0.2437560144296664\n",
      "For DiffWalk, correlation with diabetes: 0.22361846590455572\n",
      "For HeartDiseaseorAttack, correlation with diabetes: 0.2093612106900363\n",
      "For PhysHlth, correlation with diabetes: 0.1495504814647678\n",
      "For Stroke, correlation with diabetes: 0.12957491304959706\n",
      "For CholCheck, correlation with diabetes: 0.09850827252915051\n",
      "For Smoker, correlation with diabetes: 0.09699146704969772\n",
      "For Sex, correlation with diabetes: 0.052206960687285774\n",
      "For AnyHealthcare, correlation with diabetes: 0.038424768934771536\n",
      "For MentHlth, correlation with diabetes: 0.02049928526481007\n",
      "For NoDocbcCost, correlation with diabetes: 0.017357983577041575\n",
      "For HvyAlcoholConsump, correlation with diabetes: -0.003971573995750689\n",
      "For Fruits, correlation with diabetes: -0.0405546586179681\n",
      "For Veggies, correlation with diabetes: -0.061266165318730116\n",
      "For PhysActivity, correlation with diabetes: -0.1252668662447098\n",
      "For Education, correlation with diabetes: -0.14197047608591792\n",
      "For Income, correlation with diabetes: -0.17916132217399394\n"
     ]
    }
   ],
   "source": [
    "Diabetes = df['HighBP']\n",
    "column_array = ['HighBP', 'HighChol', 'CholCheck', 'BMI', 'Smoker', 'Stroke', 'HeartDiseaseorAttack', 'PhysActivity', 'Fruits', 'Veggies', 'HvyAlcoholConsump', 'AnyHealthcare', 'NoDocbcCost', 'GenHlth', 'MentHlth', 'PhysHlth', 'DiffWalk', 'Sex', 'Age', 'Education', 'Income']\n",
    "all_correlations = []\n",
    "for i in range (len(column_array)):\n",
    "    current_index = df[column_array[i]]\n",
    "    spearmanr_coefficient, p_value = spearmanr(Diabetes, current_index)\n",
    "    all_correlations.append([column_array[i], spearmanr_coefficient])\n",
    "\n",
    "all_correlations.sort(key = lambda all_correlations : all_correlations[1], reverse = True)\n",
    "for i in range(len(all_correlations)):\n",
    "    print(\"For \" + str(all_correlations[i][0]) + ', correlation with diabetes: ' + str(all_correlations[i][1]))"
   ]
  },
  {
   "cell_type": "code",
   "execution_count": 4,
   "id": "7b5f9ca3",
   "metadata": {},
   "outputs": [],
   "source": [
    "x = x_train2\n",
    "y = y_train2"
   ]
  },
  {
   "cell_type": "code",
   "execution_count": 5,
   "id": "8dd50bfd",
   "metadata": {},
   "outputs": [
    {
     "data": {
      "text/plain": [
       "0.0    154269\n",
       "1.0    154269\n",
       "Name: Diabetes_012, dtype: int64"
      ]
     },
     "execution_count": 5,
     "metadata": {},
     "output_type": "execute_result"
    }
   ],
   "source": [
    "from imblearn.over_sampling import SMOTE\n",
    "smote = SMOTE(sampling_strategy = 'minority', k_neighbors = 15)\n",
    "X, Y = smote.fit_resample(x,y)\n",
    "Y.value_counts()"
   ]
  },
  {
   "cell_type": "code",
   "execution_count": 6,
   "id": "c36ee30c",
   "metadata": {},
   "outputs": [
    {
     "name": "stdout",
     "output_type": "stream",
     "text": [
      "Logistic Regression score: %64.59\n"
     ]
    }
   ],
   "source": [
    "LogReg = LogisticRegression(max_iter=1000).fit(X,Y)\n",
    "print(\"Logistic Regression score: %\" + str(round((LogReg.score(x_val,y_val)) * 100 , 2)))"
   ]
  },
  {
   "cell_type": "code",
   "execution_count": 7,
   "id": "ee2cbd66",
   "metadata": {},
   "outputs": [
    {
     "name": "stderr",
     "output_type": "stream",
     "text": [
      "C:\\Users\\andre\\anaconda3\\lib\\site-packages\\sklearn\\base.py:450: UserWarning: X does not have valid feature names, but LogisticRegression was fitted with feature names\n",
      "  warnings.warn(\n"
     ]
    },
    {
     "data": {
      "text/plain": [
       "0.0"
      ]
     },
     "execution_count": 7,
     "metadata": {},
     "output_type": "execute_result"
    }
   ],
   "source": [
    "#Person is healthy\n",
    "HighBP_ = 0 \n",
    "HighChol_ = 0 \n",
    "LogReg.predict(np.array([[HighBP_, HighChol_]]))[0]\n",
    "# 0 = No Diabetes, 1 = Diabetes"
   ]
  },
  {
   "cell_type": "code",
   "execution_count": 8,
   "id": "a2442937",
   "metadata": {},
   "outputs": [
    {
     "name": "stderr",
     "output_type": "stream",
     "text": [
      "C:\\Users\\andre\\anaconda3\\lib\\site-packages\\sklearn\\base.py:450: UserWarning: X does not have valid feature names, but LogisticRegression was fitted with feature names\n",
      "  warnings.warn(\n"
     ]
    },
    {
     "data": {
      "text/plain": [
       "0.0"
      ]
     },
     "execution_count": 8,
     "metadata": {},
     "output_type": "execute_result"
    }
   ],
   "source": [
    "#Person has high cholesterol\n",
    "HighBP_ = 0 \n",
    "HighChol_ = 1 \n",
    "LogReg.predict(np.array([[HighBP_,HighChol_]]))[0]\n",
    "# 0 = No Diabetes, 1 = Diabetes"
   ]
  },
  {
   "cell_type": "code",
   "execution_count": 9,
   "id": "668d9364",
   "metadata": {},
   "outputs": [
    {
     "name": "stderr",
     "output_type": "stream",
     "text": [
      "C:\\Users\\andre\\anaconda3\\lib\\site-packages\\sklearn\\base.py:450: UserWarning: X does not have valid feature names, but LogisticRegression was fitted with feature names\n",
      "  warnings.warn(\n"
     ]
    },
    {
     "data": {
      "text/plain": [
       "1.0"
      ]
     },
     "execution_count": 9,
     "metadata": {},
     "output_type": "execute_result"
    }
   ],
   "source": [
    "#Person has high blood pressure\n",
    "HighBP_ = 1 \n",
    "HighChol_ = 0 \n",
    "LogReg.predict(np.array([[HighBP_,HighChol_]]))[0]\n",
    "# 0 = No Diabetes, 1 = Diabetes"
   ]
  },
  {
   "cell_type": "code",
   "execution_count": 10,
   "id": "f61cf590",
   "metadata": {},
   "outputs": [
    {
     "name": "stderr",
     "output_type": "stream",
     "text": [
      "C:\\Users\\andre\\anaconda3\\lib\\site-packages\\sklearn\\base.py:450: UserWarning: X does not have valid feature names, but LogisticRegression was fitted with feature names\n",
      "  warnings.warn(\n"
     ]
    },
    {
     "data": {
      "text/plain": [
       "1.0"
      ]
     },
     "execution_count": 10,
     "metadata": {},
     "output_type": "execute_result"
    }
   ],
   "source": [
    "#Person has high blood pressure and high cholesterol\n",
    "HighBP_ = 1 \n",
    "HighChol_ = 1 \n",
    "LogReg.predict(np.array([[HighBP_,HighChol_]]))[0]\n",
    "# 0 = No Diabetes, 1 = Diabetes"
   ]
  }
 ],
 "metadata": {
  "kernelspec": {
   "display_name": "Python 3 (ipykernel)",
   "language": "python",
   "name": "python3"
  },
  "language_info": {
   "codemirror_mode": {
    "name": "ipython",
    "version": 3
   },
   "file_extension": ".py",
   "mimetype": "text/x-python",
   "name": "python",
   "nbconvert_exporter": "python",
   "pygments_lexer": "ipython3",
   "version": "3.9.7"
  }
 },
 "nbformat": 4,
 "nbformat_minor": 5
}
