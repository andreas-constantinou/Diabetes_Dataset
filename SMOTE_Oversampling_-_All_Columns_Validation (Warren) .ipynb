{
 "cells": [
  {
   "cell_type": "code",
   "execution_count": 34,
   "id": "9ca56e45",
   "metadata": {},
   "outputs": [],
   "source": [
    "import pandas as pd\n",
    "import numpy as np\n",
    "import matplotlib.pyplot as plt\n",
    "from sklearn import datasets\n",
    "from sklearn.model_selection import train_test_split\n",
    "from sklearn.linear_model import LogisticRegression\n",
    "from sklearn.feature_extraction.text import CountVectorizer\n",
    "\n",
    "df = pd.read_csv(\"diabetes_012.csv\")\n",
    "df['Diabetes_012'].replace({2.0:1.0}, inplace = True)\n",
    "\n",
    "#Gathering the data \n",
    "#health_df = df[['HighBP', 'HighChol', 'BMI', 'Smoker', 'Stroke', 'HeartDiseaseorAttack', 'PhysActivity', 'Fruits', 'Veggies', 'HvyAlcoholConsump', 'GenHlth', 'PhysHlth', 'DiffWalk', 'Age', 'Education', 'Income', 'Diabetes_012']]\n",
    "\n",
    "#This is the dataset with all column names\n",
    "oversample_copy = df[['GenHlth', 'MentHlth', 'PhysHlth', 'Diabetes_012']]\n"
   ]
  },
  {
   "cell_type": "code",
   "execution_count": 35,
   "id": "e21a88df",
   "metadata": {},
   "outputs": [],
   "source": [
    "#Splitting into train then test set\n",
    "x_full, x_test, y_full, y_test = train_test_split(oversample_copy.drop('Diabetes_012', axis = 1), oversample_copy['Diabetes_012'], test_size = 0.15)\n",
    "#Splitting into train, validation, then test\n",
    "x_train, x_val, y_train, y_val = train_test_split(x_full, y_full, test_size = 0.15)\n"
   ]
  },
  {
   "cell_type": "code",
   "execution_count": 36,
   "id": "994a5609",
   "metadata": {},
   "outputs": [
    {
     "data": {
      "text/plain": [
       "0.0    154574\n",
       "1.0    154574\n",
       "Name: Diabetes_012, dtype: int64"
      ]
     },
     "execution_count": 36,
     "metadata": {},
     "output_type": "execute_result"
    }
   ],
   "source": [
    "from imblearn.over_sampling import SMOTE\n",
    "smote = SMOTE(sampling_strategy = 'minority', k_neighbors = 15)\n",
    "X, Y = smote.fit_resample(x_train,y_train)\n",
    "Y.value_counts()"
   ]
  },
  {
   "cell_type": "code",
   "execution_count": 37,
   "id": "3b5582ee",
   "metadata": {},
   "outputs": [],
   "source": [
    "LogReg = LogisticRegression(max_iter=1000).fit(X,Y)\n",
    "#print(\"Logistic Regression score: %\" + str(round((LogReg.score(x_test,y_test)) * 100 , 2)))"
   ]
  },
  {
   "cell_type": "code",
   "execution_count": 38,
   "id": "8c00574d",
   "metadata": {},
   "outputs": [
    {
     "name": "stdout",
     "output_type": "stream",
     "text": [
      "[1. 1. 0. ... 1. 0. 0.]\n",
      "[1. 1. 0. ... 1. 0. 1.]\n"
     ]
    }
   ],
   "source": [
    "y_predict = LogReg.predict(x_test)\n",
    "print (y_test.values)\n",
    "print (y_predict)"
   ]
  },
  {
   "cell_type": "code",
   "execution_count": 39,
   "id": "f2af2c3f",
   "metadata": {},
   "outputs": [
    {
     "name": "stdout",
     "output_type": "stream",
     "text": [
      "Logistic Regression score: %63.03\n",
      "[[19453 12494]\n",
      " [ 1575  4530]]\n",
      "              precision    recall  f1-score   support\n",
      "\n",
      "         0.0       0.93      0.61      0.73     31947\n",
      "         1.0       0.27      0.74      0.39      6105\n",
      "\n",
      "    accuracy                           0.63     38052\n",
      "   macro avg       0.60      0.68      0.56     38052\n",
      "weighted avg       0.82      0.63      0.68     38052\n",
      "\n"
     ]
    }
   ],
   "source": [
    "from sklearn.metrics import classification_report\n",
    "from sklearn.metrics import confusion_matrix\n",
    "print(\"Logistic Regression score: %\" + str(round((LogReg.score(x_test,y_test)) * 100 , 2)))\n",
    "print(confusion_matrix(y_test, y_predict))\n",
    "print(classification_report(y_test, y_predict))\n",
    "\n"
   ]
  },
  {
   "cell_type": "code",
   "execution_count": 40,
   "id": "0d01413f",
   "metadata": {},
   "outputs": [
    {
     "name": "stdout",
     "output_type": "stream",
     "text": [
      "The amount of True Positives are: 4530\n",
      "The amount of True Negatives are: 19453\n"
     ]
    }
   ],
   "source": [
    "#[ True Negative False positive] \n",
    "#[ False Negative True Positive ]\n",
    "array = (confusion_matrix(y_test, y_predict))\n",
    "print (\"The amount of True Positives are: \" + str(array[1][1]))\n",
    "print (\"The amount of True Negatives are: \" + str(array[0][0]))"
   ]
  },
  {
   "cell_type": "code",
   "execution_count": null,
   "id": "4b5041c5",
   "metadata": {},
   "outputs": [],
   "source": []
  },
  {
   "cell_type": "code",
   "execution_count": null,
   "id": "6a10d90b",
   "metadata": {},
   "outputs": [],
   "source": []
  }
 ],
 "metadata": {
  "interpreter": {
   "hash": "aee8b7b246df8f9039afb4144a1f6fd8d2ca17a180786b69acc140d282b71a49"
  },
  "kernelspec": {
   "display_name": "Python 3.10.0 64-bit",
   "language": "python",
   "name": "python3"
  },
  "language_info": {
   "codemirror_mode": {
    "name": "ipython",
    "version": 3
   },
   "file_extension": ".py",
   "mimetype": "text/x-python",
   "name": "python",
   "nbconvert_exporter": "python",
   "pygments_lexer": "ipython3",
   "version": "3.10.0"
  }
 },
 "nbformat": 4,
 "nbformat_minor": 5
}
