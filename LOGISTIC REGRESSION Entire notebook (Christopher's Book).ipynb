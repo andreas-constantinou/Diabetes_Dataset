{
 "cells": [
  {
   "cell_type": "code",
   "execution_count": 15,
   "id": "859a0be7",
   "metadata": {},
   "outputs": [],
   "source": [
    "import pandas as pd\n",
    "import numpy as np\n",
    "import matplotlib.pyplot as plt\n",
    "from sklearn import datasets\n",
    "from sklearn.model_selection import train_test_split\n",
    "from sklearn.linear_model import LogisticRegression\n",
    "import scipy \n",
    "from scipy.stats import spearmanr\n",
    "from imblearn import under_sampling, over_sampling\n",
    "from imblearn.over_sampling import RandomOverSampler\n",
    "from imblearn.under_sampling import RandomUnderSampler\n",
    "from imblearn.over_sampling import SMOTE\n",
    "from sklearn.metrics import classification_report\n",
    "from sklearn.metrics import confusion_matrix\n",
    "from collections import Counter\n"
   ]
  },
  {
   "cell_type": "markdown",
   "id": "b8fd424d",
   "metadata": {},
   "source": [
    "# Gathering the data"
   ]
  },
  {
   "cell_type": "code",
   "execution_count": 16,
   "id": "abfce9c0",
   "metadata": {},
   "outputs": [
    {
     "data": {
      "text/html": [
       "<div>\n",
       "<style scoped>\n",
       "    .dataframe tbody tr th:only-of-type {\n",
       "        vertical-align: middle;\n",
       "    }\n",
       "\n",
       "    .dataframe tbody tr th {\n",
       "        vertical-align: top;\n",
       "    }\n",
       "\n",
       "    .dataframe thead th {\n",
       "        text-align: right;\n",
       "    }\n",
       "</style>\n",
       "<table border=\"1\" class=\"dataframe\">\n",
       "  <thead>\n",
       "    <tr style=\"text-align: right;\">\n",
       "      <th></th>\n",
       "      <th>Diabetes_012</th>\n",
       "      <th>HighBP</th>\n",
       "      <th>HighChol</th>\n",
       "      <th>CholCheck</th>\n",
       "      <th>BMI</th>\n",
       "      <th>Smoker</th>\n",
       "      <th>Stroke</th>\n",
       "      <th>HeartDiseaseorAttack</th>\n",
       "      <th>PhysActivity</th>\n",
       "      <th>Fruits</th>\n",
       "      <th>...</th>\n",
       "      <th>AnyHealthcare</th>\n",
       "      <th>NoDocbcCost</th>\n",
       "      <th>GenHlth</th>\n",
       "      <th>MentHlth</th>\n",
       "      <th>PhysHlth</th>\n",
       "      <th>DiffWalk</th>\n",
       "      <th>Sex</th>\n",
       "      <th>Age</th>\n",
       "      <th>Education</th>\n",
       "      <th>Income</th>\n",
       "    </tr>\n",
       "  </thead>\n",
       "  <tbody>\n",
       "    <tr>\n",
       "      <th>10938</th>\n",
       "      <td>1.0</td>\n",
       "      <td>1.0</td>\n",
       "      <td>0.0</td>\n",
       "      <td>1.0</td>\n",
       "      <td>34.0</td>\n",
       "      <td>0.0</td>\n",
       "      <td>0.0</td>\n",
       "      <td>1.0</td>\n",
       "      <td>0.0</td>\n",
       "      <td>0.0</td>\n",
       "      <td>...</td>\n",
       "      <td>1.0</td>\n",
       "      <td>0.0</td>\n",
       "      <td>5.0</td>\n",
       "      <td>30.0</td>\n",
       "      <td>10.0</td>\n",
       "      <td>1.0</td>\n",
       "      <td>1.0</td>\n",
       "      <td>10.0</td>\n",
       "      <td>4.0</td>\n",
       "      <td>6.0</td>\n",
       "    </tr>\n",
       "    <tr>\n",
       "      <th>75711</th>\n",
       "      <td>0.0</td>\n",
       "      <td>0.0</td>\n",
       "      <td>0.0</td>\n",
       "      <td>1.0</td>\n",
       "      <td>36.0</td>\n",
       "      <td>0.0</td>\n",
       "      <td>0.0</td>\n",
       "      <td>0.0</td>\n",
       "      <td>1.0</td>\n",
       "      <td>1.0</td>\n",
       "      <td>...</td>\n",
       "      <td>1.0</td>\n",
       "      <td>0.0</td>\n",
       "      <td>2.0</td>\n",
       "      <td>2.0</td>\n",
       "      <td>0.0</td>\n",
       "      <td>0.0</td>\n",
       "      <td>0.0</td>\n",
       "      <td>5.0</td>\n",
       "      <td>6.0</td>\n",
       "      <td>8.0</td>\n",
       "    </tr>\n",
       "    <tr>\n",
       "      <th>220612</th>\n",
       "      <td>0.0</td>\n",
       "      <td>1.0</td>\n",
       "      <td>0.0</td>\n",
       "      <td>1.0</td>\n",
       "      <td>31.0</td>\n",
       "      <td>0.0</td>\n",
       "      <td>0.0</td>\n",
       "      <td>0.0</td>\n",
       "      <td>1.0</td>\n",
       "      <td>1.0</td>\n",
       "      <td>...</td>\n",
       "      <td>1.0</td>\n",
       "      <td>0.0</td>\n",
       "      <td>2.0</td>\n",
       "      <td>0.0</td>\n",
       "      <td>0.0</td>\n",
       "      <td>0.0</td>\n",
       "      <td>0.0</td>\n",
       "      <td>6.0</td>\n",
       "      <td>4.0</td>\n",
       "      <td>7.0</td>\n",
       "    </tr>\n",
       "    <tr>\n",
       "      <th>218249</th>\n",
       "      <td>0.0</td>\n",
       "      <td>0.0</td>\n",
       "      <td>0.0</td>\n",
       "      <td>1.0</td>\n",
       "      <td>27.0</td>\n",
       "      <td>1.0</td>\n",
       "      <td>0.0</td>\n",
       "      <td>0.0</td>\n",
       "      <td>1.0</td>\n",
       "      <td>1.0</td>\n",
       "      <td>...</td>\n",
       "      <td>1.0</td>\n",
       "      <td>0.0</td>\n",
       "      <td>1.0</td>\n",
       "      <td>0.0</td>\n",
       "      <td>0.0</td>\n",
       "      <td>0.0</td>\n",
       "      <td>0.0</td>\n",
       "      <td>6.0</td>\n",
       "      <td>4.0</td>\n",
       "      <td>4.0</td>\n",
       "    </tr>\n",
       "    <tr>\n",
       "      <th>212022</th>\n",
       "      <td>0.0</td>\n",
       "      <td>0.0</td>\n",
       "      <td>0.0</td>\n",
       "      <td>1.0</td>\n",
       "      <td>23.0</td>\n",
       "      <td>0.0</td>\n",
       "      <td>0.0</td>\n",
       "      <td>0.0</td>\n",
       "      <td>1.0</td>\n",
       "      <td>1.0</td>\n",
       "      <td>...</td>\n",
       "      <td>1.0</td>\n",
       "      <td>0.0</td>\n",
       "      <td>2.0</td>\n",
       "      <td>1.0</td>\n",
       "      <td>2.0</td>\n",
       "      <td>0.0</td>\n",
       "      <td>1.0</td>\n",
       "      <td>1.0</td>\n",
       "      <td>5.0</td>\n",
       "      <td>3.0</td>\n",
       "    </tr>\n",
       "    <tr>\n",
       "      <th>62220</th>\n",
       "      <td>0.0</td>\n",
       "      <td>0.0</td>\n",
       "      <td>0.0</td>\n",
       "      <td>1.0</td>\n",
       "      <td>39.0</td>\n",
       "      <td>0.0</td>\n",
       "      <td>1.0</td>\n",
       "      <td>0.0</td>\n",
       "      <td>0.0</td>\n",
       "      <td>0.0</td>\n",
       "      <td>...</td>\n",
       "      <td>1.0</td>\n",
       "      <td>0.0</td>\n",
       "      <td>3.0</td>\n",
       "      <td>7.0</td>\n",
       "      <td>1.0</td>\n",
       "      <td>1.0</td>\n",
       "      <td>0.0</td>\n",
       "      <td>7.0</td>\n",
       "      <td>4.0</td>\n",
       "      <td>4.0</td>\n",
       "    </tr>\n",
       "    <tr>\n",
       "      <th>151067</th>\n",
       "      <td>0.0</td>\n",
       "      <td>1.0</td>\n",
       "      <td>1.0</td>\n",
       "      <td>1.0</td>\n",
       "      <td>27.0</td>\n",
       "      <td>1.0</td>\n",
       "      <td>0.0</td>\n",
       "      <td>1.0</td>\n",
       "      <td>1.0</td>\n",
       "      <td>0.0</td>\n",
       "      <td>...</td>\n",
       "      <td>1.0</td>\n",
       "      <td>0.0</td>\n",
       "      <td>2.0</td>\n",
       "      <td>0.0</td>\n",
       "      <td>0.0</td>\n",
       "      <td>0.0</td>\n",
       "      <td>1.0</td>\n",
       "      <td>10.0</td>\n",
       "      <td>6.0</td>\n",
       "      <td>7.0</td>\n",
       "    </tr>\n",
       "    <tr>\n",
       "      <th>221001</th>\n",
       "      <td>0.0</td>\n",
       "      <td>1.0</td>\n",
       "      <td>1.0</td>\n",
       "      <td>1.0</td>\n",
       "      <td>26.0</td>\n",
       "      <td>1.0</td>\n",
       "      <td>0.0</td>\n",
       "      <td>0.0</td>\n",
       "      <td>0.0</td>\n",
       "      <td>1.0</td>\n",
       "      <td>...</td>\n",
       "      <td>1.0</td>\n",
       "      <td>0.0</td>\n",
       "      <td>2.0</td>\n",
       "      <td>0.0</td>\n",
       "      <td>0.0</td>\n",
       "      <td>0.0</td>\n",
       "      <td>1.0</td>\n",
       "      <td>12.0</td>\n",
       "      <td>6.0</td>\n",
       "      <td>4.0</td>\n",
       "    </tr>\n",
       "    <tr>\n",
       "      <th>37015</th>\n",
       "      <td>0.0</td>\n",
       "      <td>1.0</td>\n",
       "      <td>0.0</td>\n",
       "      <td>1.0</td>\n",
       "      <td>33.0</td>\n",
       "      <td>1.0</td>\n",
       "      <td>0.0</td>\n",
       "      <td>0.0</td>\n",
       "      <td>1.0</td>\n",
       "      <td>0.0</td>\n",
       "      <td>...</td>\n",
       "      <td>1.0</td>\n",
       "      <td>0.0</td>\n",
       "      <td>2.0</td>\n",
       "      <td>0.0</td>\n",
       "      <td>2.0</td>\n",
       "      <td>0.0</td>\n",
       "      <td>1.0</td>\n",
       "      <td>13.0</td>\n",
       "      <td>5.0</td>\n",
       "      <td>5.0</td>\n",
       "    </tr>\n",
       "    <tr>\n",
       "      <th>211921</th>\n",
       "      <td>0.0</td>\n",
       "      <td>0.0</td>\n",
       "      <td>0.0</td>\n",
       "      <td>1.0</td>\n",
       "      <td>22.0</td>\n",
       "      <td>1.0</td>\n",
       "      <td>0.0</td>\n",
       "      <td>0.0</td>\n",
       "      <td>0.0</td>\n",
       "      <td>0.0</td>\n",
       "      <td>...</td>\n",
       "      <td>0.0</td>\n",
       "      <td>0.0</td>\n",
       "      <td>3.0</td>\n",
       "      <td>0.0</td>\n",
       "      <td>0.0</td>\n",
       "      <td>1.0</td>\n",
       "      <td>1.0</td>\n",
       "      <td>7.0</td>\n",
       "      <td>4.0</td>\n",
       "      <td>6.0</td>\n",
       "    </tr>\n",
       "  </tbody>\n",
       "</table>\n",
       "<p>10 rows × 22 columns</p>\n",
       "</div>"
      ],
      "text/plain": [
       "        Diabetes_012  HighBP  HighChol  CholCheck   BMI  Smoker  Stroke  \\\n",
       "10938            1.0     1.0       0.0        1.0  34.0     0.0     0.0   \n",
       "75711            0.0     0.0       0.0        1.0  36.0     0.0     0.0   \n",
       "220612           0.0     1.0       0.0        1.0  31.0     0.0     0.0   \n",
       "218249           0.0     0.0       0.0        1.0  27.0     1.0     0.0   \n",
       "212022           0.0     0.0       0.0        1.0  23.0     0.0     0.0   \n",
       "62220            0.0     0.0       0.0        1.0  39.0     0.0     1.0   \n",
       "151067           0.0     1.0       1.0        1.0  27.0     1.0     0.0   \n",
       "221001           0.0     1.0       1.0        1.0  26.0     1.0     0.0   \n",
       "37015            0.0     1.0       0.0        1.0  33.0     1.0     0.0   \n",
       "211921           0.0     0.0       0.0        1.0  22.0     1.0     0.0   \n",
       "\n",
       "        HeartDiseaseorAttack  PhysActivity  Fruits  ...  AnyHealthcare  \\\n",
       "10938                    1.0           0.0     0.0  ...            1.0   \n",
       "75711                    0.0           1.0     1.0  ...            1.0   \n",
       "220612                   0.0           1.0     1.0  ...            1.0   \n",
       "218249                   0.0           1.0     1.0  ...            1.0   \n",
       "212022                   0.0           1.0     1.0  ...            1.0   \n",
       "62220                    0.0           0.0     0.0  ...            1.0   \n",
       "151067                   1.0           1.0     0.0  ...            1.0   \n",
       "221001                   0.0           0.0     1.0  ...            1.0   \n",
       "37015                    0.0           1.0     0.0  ...            1.0   \n",
       "211921                   0.0           0.0     0.0  ...            0.0   \n",
       "\n",
       "        NoDocbcCost  GenHlth  MentHlth  PhysHlth  DiffWalk  Sex   Age  \\\n",
       "10938           0.0      5.0      30.0      10.0       1.0  1.0  10.0   \n",
       "75711           0.0      2.0       2.0       0.0       0.0  0.0   5.0   \n",
       "220612          0.0      2.0       0.0       0.0       0.0  0.0   6.0   \n",
       "218249          0.0      1.0       0.0       0.0       0.0  0.0   6.0   \n",
       "212022          0.0      2.0       1.0       2.0       0.0  1.0   1.0   \n",
       "62220           0.0      3.0       7.0       1.0       1.0  0.0   7.0   \n",
       "151067          0.0      2.0       0.0       0.0       0.0  1.0  10.0   \n",
       "221001          0.0      2.0       0.0       0.0       0.0  1.0  12.0   \n",
       "37015           0.0      2.0       0.0       2.0       0.0  1.0  13.0   \n",
       "211921          0.0      3.0       0.0       0.0       1.0  1.0   7.0   \n",
       "\n",
       "        Education  Income  \n",
       "10938         4.0     6.0  \n",
       "75711         6.0     8.0  \n",
       "220612        4.0     7.0  \n",
       "218249        4.0     4.0  \n",
       "212022        5.0     3.0  \n",
       "62220         4.0     4.0  \n",
       "151067        6.0     7.0  \n",
       "221001        6.0     4.0  \n",
       "37015         5.0     5.0  \n",
       "211921        4.0     6.0  \n",
       "\n",
       "[10 rows x 22 columns]"
      ]
     },
     "execution_count": 16,
     "metadata": {},
     "output_type": "execute_result"
    }
   ],
   "source": [
    "df = pd.read_csv(\"diabetes_012.csv\")\n",
    "df['Diabetes_012'].replace({2.0:1.0}, inplace = True)\n",
    "\n",
    "# Checking correlation with all features\n",
    "Diabetes = df['Diabetes_012']\n",
    "\n",
    "\n",
    "##Binarizing\n",
    "\n",
    "####################THIS IS WHERE YOU CHANGE THE THRESHOLD##################################\n",
    "#df['Age'] = np.where(df['Age'].between(1,10), 0, df['Age']) #Between and including 1 and 6\n",
    "#df['Age'] = np.where(df['Age'].between(11,13), 1, df['Age']) #Between and including 7 and 13\n",
    "############################################################################################\n",
    "\n",
    "#df['BMI'] = np.where(df['BMI'].between(0,19), 0, df['BMI']) #  Under Weight\n",
    "#df['BMI'] = np.where(df['BMI'].between(20,24), 1, df['BMI']) # Healthy BMI \n",
    "#df['BMI'] = np.where(df['BMI'].between(25,100), 2, df['BMI'])#  OverWeight\n",
    "\n",
    "## FOR FEATURE SELECTION\n",
    "#df = df[['HighBP', 'HighChol', 'BMI', 'HeartDiseaseorAttack', 'GenHlth', 'PhysHlth', 'DiffWalk', 'Age', 'Education', 'Income', 'Diabetes_012']]\n",
    "\n",
    "df.sample(10)"
   ]
  },
  {
   "cell_type": "markdown",
   "id": "fbbc5f3c",
   "metadata": {},
   "source": [
    "# Analyzing Correlations"
   ]
  },
  {
   "cell_type": "code",
   "execution_count": 17,
   "id": "b1e594cd",
   "metadata": {},
   "outputs": [
    {
     "name": "stdout",
     "output_type": "stream",
     "text": [
      "CORRELATION RANKING WITH DIABETES DESCENDING ORDER:\n",
      "For GenHlth, correlation with diabetes: 0.2956965223503244\n",
      "For HighBP, correlation with diabetes: 0.27033413782823484\n",
      "For BMI, correlation with diabetes: 0.23510351924420628\n",
      "For DiffWalk, correlation with diabetes: 0.22215489287386767\n",
      "For HighChol, correlation with diabetes: 0.21028966430760263\n",
      "For Age, correlation with diabetes: 0.18593152591388212\n",
      "For HeartDiseaseorAttack, correlation with diabetes: 0.1769333102390056\n",
      "For PhysHlth, correlation with diabetes: 0.16090340865912747\n",
      "For Stroke, correlation with diabetes: 0.10479969968291783\n",
      "For CholCheck, correlation with diabetes: 0.06787859992199813\n",
      "For Smoker, correlation with diabetes: 0.06277765755767814\n",
      "For MentHlth, correlation with diabetes: 0.0453028748117598\n",
      "For NoDocbcCost, correlation with diabetes: 0.03802546722845298\n",
      "For Sex, correlation with diabetes: 0.029605612331244643\n",
      "For AnyHealthcare, correlation with diabetes: 0.014079229503665023\n",
      "For Fruits, correlation with diabetes: -0.04208771238687068\n",
      "For HvyAlcoholConsump, correlation with diabetes: -0.05668247801419502\n",
      "For Veggies, correlation with diabetes: -0.0592192003333233\n",
      "For PhysActivity, correlation with diabetes: -0.12139187197721046\n",
      "For Education, correlation with diabetes: -0.12673281850403686\n",
      "For Income, correlation with diabetes: -0.17243853103951512\n"
     ]
    }
   ],
   "source": [
    "#Every single column is in this array\n",
    "column_array = ['HighBP', 'HighChol', 'CholCheck', 'BMI', 'Smoker', 'Stroke', 'HeartDiseaseorAttack', 'PhysActivity', 'Fruits', 'Veggies', 'HvyAlcoholConsump', 'AnyHealthcare', 'NoDocbcCost', 'GenHlth', 'MentHlth', 'PhysHlth', 'DiffWalk', 'Sex', 'Age', 'Education', 'Income']\n",
    "all_correlations = []\n",
    "for i in range (len(column_array)):\n",
    "    current_index = df[column_array[i]]\n",
    "    spearmanr_coefficient, p_value = spearmanr(Diabetes, current_index)\n",
    "    all_correlations.append([column_array[i], spearmanr_coefficient])\n",
    "\n",
    "all_correlations.sort(key = lambda all_correlations : all_correlations[1], reverse = True)\n",
    "print(\"CORRELATION RANKING WITH DIABETES DESCENDING ORDER:\")\n",
    "for i in range(len(all_correlations)):\n",
    "    print(\"For \" + str(all_correlations[i][0]) + ', correlation with diabetes: ' + str(all_correlations[i][1]))"
   ]
  },
  {
   "cell_type": "markdown",
   "id": "f5550d13",
   "metadata": {},
   "source": [
    "# Plotting the correlation"
   ]
  },
  {
   "cell_type": "code",
   "execution_count": 18,
   "id": "1261b66b",
   "metadata": {},
   "outputs": [
    {
     "data": {
      "text/plain": [
       "Text(0, 0.5, 'Correlation Number Value')"
      ]
     },
     "execution_count": 18,
     "metadata": {},
     "output_type": "execute_result"
    },
    {
     "data": {
      "image/png": "[encoded data removed]",
      "text/plain": [
       "<Figure size 1440x720 with 1 Axes>"
      ]
     },
     "metadata": {
      "needs_background": "light"
     },
     "output_type": "display_data"
    }
   ],
   "source": [
    "x = []\n",
    "y = []\n",
    "for i in range(len(all_correlations)):\n",
    "    x.append(all_correlations[i][0])\n",
    "    y.append(all_correlations[i][1])\n",
    "\n",
    "plt.figure(figsize = (20,10))\n",
    "plt.bar(x,y)\n",
    "plt.xlabel(\"Features\")\n",
    "plt.ylabel(\"Correlation Number Value\")\n"
   ]
  },
  {
   "cell_type": "code",
   "execution_count": 19,
   "id": "49d05186",
   "metadata": {},
   "outputs": [
    {
     "data": {
      "text/plain": [
       "<AxesSubplot:>"
      ]
     },
     "execution_count": 19,
     "metadata": {},
     "output_type": "execute_result"
    },
    {
     "data": {
      "image/png": "[encoded data removed]",
      "text/plain": [
       "<Figure size 864x504 with 1 Axes>"
      ]
     },
     "metadata": {
      "needs_background": "light"
     },
     "output_type": "display_data"
    }
   ],
   "source": [
    "plotdata = pd.DataFrame(\n",
    "    {\"Correlation Value\": y}, \n",
    "    index=x)\n",
    "# Plot a bar chart\n",
    "plotdata.plot(kind=\"barh\", figsize = (12,7))"
   ]
  },
  {
   "cell_type": "markdown",
   "id": "85fcf0d1",
   "metadata": {},
   "source": [
    "# Splitting the data"
   ]
  },
  {
   "cell_type": "code",
   "execution_count": 20,
   "id": "050c638b",
   "metadata": {},
   "outputs": [],
   "source": [
    "#Splitting into train then test set\n",
    "x_train, x_test, y_train, y_test = train_test_split(df.drop('Diabetes_012', axis = 1), df['Diabetes_012'], test_size = 0.15)\n",
    "#Splitting into train, validation, then test\n",
    "x_tr, x_val, y_tr, y_val = train_test_split(x_train, y_train, test_size = 0.15)"
   ]
  },
  {
   "cell_type": "markdown",
   "id": "12b01536",
   "metadata": {},
   "source": [
    "# Not applying any balancing method"
   ]
  },
  {
   "cell_type": "code",
   "execution_count": 21,
   "id": "79b83834",
   "metadata": {},
   "outputs": [
    {
     "name": "stdout",
     "output_type": "stream",
     "text": [
      "Logistic Regression score: %85.04\n"
     ]
    }
   ],
   "source": [
    "LogReg = LogisticRegression(max_iter=1000).fit(x_tr, y_tr)\n",
    "print(\"Logistic Regression score: %\" + str(round((LogReg.score(x_val,y_val)) * 100 , 2)))"
   ]
  },
  {
   "cell_type": "code",
   "execution_count": 22,
   "id": "06f61b57",
   "metadata": {},
   "outputs": [
    {
     "name": "stdout",
     "output_type": "stream",
     "text": [
      "              precision    recall  f1-score   support\n",
      "\n",
      "         0.0       0.87      0.97      0.92     32101\n",
      "         1.0       0.55      0.19      0.28      5951\n",
      "\n",
      "    accuracy                           0.85     38052\n",
      "   macro avg       0.71      0.58      0.60     38052\n",
      "weighted avg       0.82      0.85      0.82     38052\n",
      "\n"
     ]
    }
   ],
   "source": [
    "y_predict = LogReg.predict(x_test)\n",
    "print(classification_report(y_test, y_predict))"
   ]
  },
  {
   "cell_type": "code",
   "execution_count": 23,
   "id": "25fc3825",
   "metadata": {},
   "outputs": [
    {
     "name": "stdout",
     "output_type": "stream",
     "text": [
      "[[31181   920]\n",
      " [ 4839  1112]]\n"
     ]
    }
   ],
   "source": [
    "print(confusion_matrix(y_test, y_predict))"
   ]
  },
  {
   "cell_type": "code",
   "execution_count": 24,
   "id": "aa18fe23",
   "metadata": {},
   "outputs": [
    {
     "name": "stdout",
     "output_type": "stream",
     "text": [
      "The amount of True Positives are: 1112\n",
      "The amount of True Negatives are: 31181\n"
     ]
    }
   ],
   "source": [
    "#[ True Negative False positive] \n",
    "#[ False Negative True Positive ]\n",
    "array = (confusion_matrix(y_test, y_predict))\n",
    "print (\"The amount of True Positives are: \" + str(array[1][1]))\n",
    "print (\"The amount of True Negatives are: \" + str(array[0][0]))"
   ]
  },
  {
   "cell_type": "markdown",
   "id": "444be5d6",
   "metadata": {},
   "source": [
    "# Applying balance_weight = balanced"
   ]
  },
  {
   "cell_type": "code",
   "execution_count": 25,
   "id": "9b24797a",
   "metadata": {},
   "outputs": [
    {
     "name": "stdout",
     "output_type": "stream",
     "text": [
      "Logistic Regression score: %73.2\n"
     ]
    }
   ],
   "source": [
    "# Training the model \n",
    "LogReg = LogisticRegression(class_weight = \"balanced\", max_iter=1000).fit(x_tr, y_tr)\n",
    "\n",
    "print(\"Logistic Regression score: %\" + str(round((LogReg.score(x_val,y_val)) * 100 , 2)))"
   ]
  },
  {
   "cell_type": "code",
   "execution_count": 26,
   "id": "4644f913",
   "metadata": {},
   "outputs": [
    {
     "name": "stdout",
     "output_type": "stream",
     "text": [
      "              precision    recall  f1-score   support\n",
      "\n",
      "         0.0       0.94      0.72      0.82     32101\n",
      "         1.0       0.34      0.77      0.47      5951\n",
      "\n",
      "    accuracy                           0.73     38052\n",
      "   macro avg       0.64      0.74      0.64     38052\n",
      "weighted avg       0.85      0.73      0.76     38052\n",
      "\n"
     ]
    }
   ],
   "source": [
    "y_predict = LogReg.predict(x_test)\n",
    "print(classification_report(y_test, y_predict))"
   ]
  },
  {
   "cell_type": "code",
   "execution_count": 27,
   "id": "f12a4a64",
   "metadata": {},
   "outputs": [
    {
     "name": "stdout",
     "output_type": "stream",
     "text": [
      "[[23094  9007]\n",
      " [ 1378  4573]]\n"
     ]
    }
   ],
   "source": [
    "print(confusion_matrix(y_test, y_predict))"
   ]
  },
  {
   "cell_type": "code",
   "execution_count": 28,
   "id": "bee28537",
   "metadata": {},
   "outputs": [
    {
     "name": "stdout",
     "output_type": "stream",
     "text": [
      "The amount of True Positives are: 4573\n",
      "The amount of True Negatives are: 23094\n"
     ]
    }
   ],
   "source": [
    "#[ True Negative False positive] \n",
    "#[ False Negative True Positive ]\n",
    "array = (confusion_matrix(y_test, y_predict))\n",
    "print (\"The amount of True Positives are: \" + str(array[1][1]))\n",
    "print (\"The amount of True Negatives are: \" + str(array[0][0]))"
   ]
  },
  {
   "cell_type": "markdown",
   "id": "20d034ba",
   "metadata": {},
   "source": [
    "# Applying Oversampling"
   ]
  },
  {
   "cell_type": "code",
   "execution_count": 29,
   "id": "22c4af4c",
   "metadata": {},
   "outputs": [
    {
     "name": "stdout",
     "output_type": "stream",
     "text": [
      "[(0.0, 154312), (1.0, 154312)] (308624,)\n"
     ]
    }
   ],
   "source": [
    "X = x_tr # Dataframe with all columnns but Diabetes column\n",
    "Y = y_tr # Dataframe with only Diabetes column\n",
    "ros = RandomOverSampler(random_state = 0)\n",
    "x_resample, y_resample = ros.fit_resample(X,Y)\n",
    "print(sorted(Counter(y_resample).items()), y_resample.shape)\n"
   ]
  },
  {
   "cell_type": "code",
   "execution_count": 30,
   "id": "90f58ffe",
   "metadata": {},
   "outputs": [
    {
     "name": "stdout",
     "output_type": "stream",
     "text": [
      "Logistic Regression score: %73.19\n"
     ]
    }
   ],
   "source": [
    "LogReg = LogisticRegression(max_iter=1000).fit(x_resample, y_resample)\n",
    "print(\"Logistic Regression score: %\" + str(round((LogReg.score(x_val,y_val)) * 100 , 2)))"
   ]
  },
  {
   "cell_type": "code",
   "execution_count": 31,
   "id": "a22689e6",
   "metadata": {},
   "outputs": [
    {
     "name": "stdout",
     "output_type": "stream",
     "text": [
      "              precision    recall  f1-score   support\n",
      "\n",
      "         0.0       0.94      0.72      0.82     32101\n",
      "         1.0       0.34      0.77      0.47      5951\n",
      "\n",
      "    accuracy                           0.73     38052\n",
      "   macro avg       0.64      0.74      0.64     38052\n",
      "weighted avg       0.85      0.73      0.76     38052\n",
      "\n"
     ]
    }
   ],
   "source": [
    "y_predict = LogReg.predict(x_test)\n",
    "print(classification_report(y_test, y_predict))"
   ]
  },
  {
   "cell_type": "code",
   "execution_count": 32,
   "id": "d2be6726",
   "metadata": {},
   "outputs": [
    {
     "name": "stdout",
     "output_type": "stream",
     "text": [
      "[[23062  9039]\n",
      " [ 1376  4575]]\n"
     ]
    }
   ],
   "source": [
    "from sklearn.metrics import confusion_matrix\n",
    "print(confusion_matrix(y_test, y_predict))"
   ]
  },
  {
   "cell_type": "code",
   "execution_count": 33,
   "id": "18e745f0",
   "metadata": {},
   "outputs": [
    {
     "name": "stdout",
     "output_type": "stream",
     "text": [
      "The amount of True Positives are: 4575\n",
      "The amount of True Negatives are: 23062\n"
     ]
    }
   ],
   "source": [
    "#[ True Negative False positive] \n",
    "#[ False Negative True Positive ]\n",
    "array = (confusion_matrix(y_test, y_predict))\n",
    "print (\"The amount of True Positives are: \" + str(array[1][1]))\n",
    "print (\"The amount of True Negatives are: \" + str(array[0][0]))"
   ]
  },
  {
   "cell_type": "markdown",
   "id": "787e3b14",
   "metadata": {},
   "source": [
    "# Applying Undersampling"
   ]
  },
  {
   "cell_type": "code",
   "execution_count": 34,
   "id": "c6fd8eb0",
   "metadata": {},
   "outputs": [
    {
     "name": "stdout",
     "output_type": "stream",
     "text": [
      "[(0.0, 28971), (1.0, 28971)] (57942,)\n"
     ]
    }
   ],
   "source": [
    "rus = RandomUnderSampler(random_state = 0)\n",
    "x_undersample, y_undersample = rus.fit_resample(X,Y)\n",
    "#Checking size \n",
    "print(sorted(Counter(y_undersample).items()), y_undersample.shape)"
   ]
  },
  {
   "cell_type": "code",
   "execution_count": 35,
   "id": "04916da4",
   "metadata": {},
   "outputs": [
    {
     "name": "stdout",
     "output_type": "stream",
     "text": [
      "Logistic Regression score: %73.14\n"
     ]
    }
   ],
   "source": [
    "LogReg = LogisticRegression(max_iter=1000).fit(x_undersample, y_undersample)\n",
    "\n",
    "print(\"Logistic Regression score: %\" + str(round((LogReg.score(x_val,y_val)) * 100 , 2)))"
   ]
  },
  {
   "cell_type": "code",
   "execution_count": 36,
   "id": "584690de",
   "metadata": {},
   "outputs": [
    {
     "name": "stdout",
     "output_type": "stream",
     "text": [
      "              precision    recall  f1-score   support\n",
      "\n",
      "         0.0       0.94      0.72      0.82     32101\n",
      "         1.0       0.34      0.77      0.47      5951\n",
      "\n",
      "    accuracy                           0.73     38052\n",
      "   macro avg       0.64      0.74      0.64     38052\n",
      "weighted avg       0.85      0.73      0.76     38052\n",
      "\n"
     ]
    }
   ],
   "source": [
    "y_predict = LogReg.predict(x_test)\n",
    "print(classification_report(y_test, y_predict))"
   ]
  },
  {
   "cell_type": "code",
   "execution_count": 37,
   "id": "a777af71",
   "metadata": {},
   "outputs": [
    {
     "name": "stdout",
     "output_type": "stream",
     "text": [
      "[[23033  9068]\n",
      " [ 1372  4579]]\n"
     ]
    }
   ],
   "source": [
    "print(confusion_matrix(y_test, y_predict))"
   ]
  },
  {
   "cell_type": "code",
   "execution_count": 38,
   "id": "127aa265",
   "metadata": {},
   "outputs": [
    {
     "name": "stdout",
     "output_type": "stream",
     "text": [
      "The amount of True Positives are: 4579\n",
      "The amount of True Negatives are: 23033\n"
     ]
    }
   ],
   "source": [
    "#[ True Negative False positive] \n",
    "#[ False Negative True Positive ]\n",
    "array = (confusion_matrix(y_test, y_predict))\n",
    "print (\"The amount of True Positives are: \" + str(array[1][1]))\n",
    "print (\"The amount of True Negatives are: \" + str(array[0][0]))"
   ]
  },
  {
   "cell_type": "markdown",
   "id": "e089323b",
   "metadata": {},
   "source": [
    "# Applying SMOTE "
   ]
  },
  {
   "cell_type": "code",
   "execution_count": 39,
   "id": "3c536042",
   "metadata": {},
   "outputs": [
    {
     "data": {
      "text/plain": [
       "0.0    154312\n",
       "1.0    154312\n",
       "Name: Diabetes_012, dtype: int64"
      ]
     },
     "execution_count": 39,
     "metadata": {},
     "output_type": "execute_result"
    }
   ],
   "source": [
    "smote = SMOTE(sampling_strategy = 'minority', k_neighbors = 15)\n",
    "X_resampling, Y_resampling = smote.fit_resample(X,Y)\n",
    "Y_resampling.value_counts()"
   ]
  },
  {
   "cell_type": "code",
   "execution_count": 40,
   "id": "b8adf3f5",
   "metadata": {},
   "outputs": [
    {
     "name": "stdout",
     "output_type": "stream",
     "text": [
      "Logistic Regression score: %73.23\n"
     ]
    }
   ],
   "source": [
    "LogReg = LogisticRegression(max_iter=1000).fit(X_resampling,Y_resampling)\n",
    "print(\"Logistic Regression score: %\" + str(round((LogReg.score(x_val,y_val)) * 100 , 2)))"
   ]
  },
  {
   "cell_type": "code",
   "execution_count": 41,
   "id": "9f6fd397",
   "metadata": {},
   "outputs": [
    {
     "name": "stdout",
     "output_type": "stream",
     "text": [
      "              precision    recall  f1-score   support\n",
      "\n",
      "         0.0       0.94      0.72      0.82     32101\n",
      "         1.0       0.34      0.77      0.47      5951\n",
      "\n",
      "    accuracy                           0.73     38052\n",
      "   macro avg       0.64      0.74      0.64     38052\n",
      "weighted avg       0.85      0.73      0.76     38052\n",
      "\n"
     ]
    }
   ],
   "source": [
    "y_predict = LogReg.predict(x_test)\n",
    "print(classification_report(y_test, y_predict))"
   ]
  },
  {
   "cell_type": "code",
   "execution_count": 42,
   "id": "19c9a718",
   "metadata": {},
   "outputs": [
    {
     "name": "stdout",
     "output_type": "stream",
     "text": [
      "[[23078  9023]\n",
      " [ 1397  4554]]\n"
     ]
    }
   ],
   "source": [
    "print(confusion_matrix(y_test, y_predict))"
   ]
  },
  {
   "cell_type": "code",
   "execution_count": 43,
   "id": "8a03d1e9",
   "metadata": {},
   "outputs": [
    {
     "name": "stdout",
     "output_type": "stream",
     "text": [
      "The amount of True Positives are: 4554\n",
      "The amount of True Negatives are: 23078\n"
     ]
    }
   ],
   "source": [
    "#[ True Negative False positive] \n",
    "#[ False Negative True Positive ]\n",
    "array = (confusion_matrix(y_test, y_predict))\n",
    "print (\"The amount of True Positives are: \" + str(array[1][1]))\n",
    "print (\"The amount of True Negatives are: \" + str(array[0][0]))"
   ]
  },
  {
   "cell_type": "code",
   "execution_count": null,
   "id": "1feaebe5",
   "metadata": {},
   "outputs": [],
   "source": []
  }
 ],
 "metadata": {
  "kernelspec": {
   "display_name": "Python 3 (ipykernel)",
   "language": "python",
   "name": "python3"
  },
  "language_info": {
   "codemirror_mode": {
    "name": "ipython",
    "version": 3
   },
   "file_extension": ".py",
   "mimetype": "text/x-python",
   "name": "python",
   "nbconvert_exporter": "python",
   "pygments_lexer": "ipython3",
   "version": "3.9.7"
  }
 },
 "nbformat": 4,
 "nbformat_minor": 5
}
