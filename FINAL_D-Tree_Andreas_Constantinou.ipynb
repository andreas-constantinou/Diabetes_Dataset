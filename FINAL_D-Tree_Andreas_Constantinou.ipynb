{
 "cells": [
  {
   "cell_type": "code",
   "execution_count": 1,
   "id": "69f3dd10",
   "metadata": {},
   "outputs": [],
   "source": [
    "#Andreas Constantinou\n",
    "import pandas as pd\n",
    "import matplotlib.pyplot as plt\n",
    "import seaborn as sns\n",
    "import numpy as np\n",
    "from collections import Counter\n",
    "from sklearn.metrics import classification_report\n",
    "from sklearn.model_selection import train_test_split\n",
    "from sklearn.metrics import confusion_matrix\n",
    "from scipy.stats import spearmanr\n",
    "from sklearn.preprocessing import KBinsDiscretizer\n",
    "from sklearn.datasets import load_iris\n",
    "from sklearn import tree\n",
    "from imblearn import under_sampling, over_sampling\n",
    "from imblearn.over_sampling import RandomOverSampler\n",
    "from imblearn.under_sampling import RandomUnderSampler\n",
    "from imblearn.over_sampling import SMOTE\n",
    "from sklearn.linear_model import LogisticRegression\n",
    "from sklearn.feature_extraction.text import CountVectorizer\n",
    "from sklearn import datasets"
   ]
  },
  {
   "cell_type": "code",
   "execution_count": 2,
   "id": "115997a2",
   "metadata": {},
   "outputs": [],
   "source": [
    "df = pd.read_csv(\"diabetes_012.csv\")\n",
    "df['Diabetes_012'].replace({2.0:1.0}, inplace = True)"
   ]
  },
  {
   "cell_type": "code",
   "execution_count": 3,
   "id": "e1bfd85b",
   "metadata": {},
   "outputs": [
    {
     "name": "stdout",
     "output_type": "stream",
     "text": [
      "For GenHlth, correlation with diabetes: 0.2956965223503244\n",
      "For HighBP, correlation with diabetes: 0.27033413782823484\n",
      "For BMI, correlation with diabetes: 0.23510351924420628\n",
      "For DiffWalk, correlation with diabetes: 0.22215489287386767\n",
      "For HighChol, correlation with diabetes: 0.21028966430760263\n",
      "For Age, correlation with diabetes: 0.18593152591388212\n",
      "For HeartDiseaseorAttack, correlation with diabetes: 0.1769333102390056\n",
      "For PhysHlth, correlation with diabetes: 0.16090340865912747\n",
      "For Stroke, correlation with diabetes: 0.10479969968291783\n",
      "For CholCheck, correlation with diabetes: 0.06787859992199813\n",
      "For Smoker, correlation with diabetes: 0.06277765755767814\n",
      "For MentHlth, correlation with diabetes: 0.0453028748117598\n",
      "For NoDocbcCost, correlation with diabetes: 0.03802546722845298\n",
      "For Sex, correlation with diabetes: 0.029605612331244643\n",
      "For AnyHealthcare, correlation with diabetes: 0.014079229503665023\n",
      "For Fruits, correlation with diabetes: -0.04208771238687068\n",
      "For HvyAlcoholConsump, correlation with diabetes: -0.05668247801419502\n",
      "For Veggies, correlation with diabetes: -0.0592192003333233\n",
      "For PhysActivity, correlation with diabetes: -0.12139187197721046\n",
      "For Education, correlation with diabetes: -0.12673281850403686\n",
      "For Income, correlation with diabetes: -0.17243853103951512\n"
     ]
    }
   ],
   "source": [
    "Diabetes = df['Diabetes_012']\n",
    "column_array = ['HighBP', 'HighChol', 'CholCheck', 'BMI', 'Smoker', 'Stroke', 'HeartDiseaseorAttack', 'PhysActivity', 'Fruits', 'Veggies', 'HvyAlcoholConsump', 'AnyHealthcare', 'NoDocbcCost', 'GenHlth', 'MentHlth', 'PhysHlth', 'DiffWalk', 'Sex', 'Age', 'Education', 'Income']\n",
    "all_correlations = []\n",
    "for i in range (len(column_array)):\n",
    "    current_index = df[column_array[i]]\n",
    "    spearmanr_coefficient, p_value = spearmanr(Diabetes, current_index)\n",
    "    all_correlations.append([column_array[i], spearmanr_coefficient])\n",
    "\n",
    "all_correlations.sort(key = lambda all_correlations : all_correlations[1], reverse = True)\n",
    "for i in range(len(all_correlations)):\n",
    "    print(\"For \" + str(all_correlations[i][0]) + ', correlation with diabetes: ' + str(all_correlations[i][1]))"
   ]
  },
  {
   "cell_type": "code",
   "execution_count": 4,
   "id": "00900c24",
   "metadata": {},
   "outputs": [],
   "source": [
    "# Before mod\n",
    "x_train0, x_test0, y_train0, y_test0 = train_test_split(df[['HighBP', 'HighChol', 'CholCheck', 'BMI', 'Smoker', 'Stroke', 'HeartDiseaseorAttack', 'PhysActivity', 'Fruits', 'Veggies', 'HvyAlcoholConsump', 'AnyHealthcare', 'NoDocbcCost', 'GenHlth', 'MentHlth', 'PhysHlth', 'DiffWalk', 'Sex', 'Age', 'Education', 'Income']], df['Diabetes_012'], test_size = .15)\n",
    "x_tr0, x_val0, y_tr0, y_val0 = train_test_split(x_train0, y_train0, test_size = .15)"
   ]
  },
  {
   "cell_type": "code",
   "execution_count": 5,
   "id": "1587ac22",
   "metadata": {},
   "outputs": [],
   "source": [
    "# Balance weight full\n",
    "x_train, x_test, y_train, y_test = train_test_split(df[['HighBP', 'HighChol', 'CholCheck', 'BMI', 'Smoker', 'Stroke', 'HeartDiseaseorAttack', 'PhysActivity', 'Fruits', 'Veggies', 'HvyAlcoholConsump', 'AnyHealthcare', 'NoDocbcCost', 'GenHlth', 'MentHlth', 'PhysHlth', 'DiffWalk', 'Sex', 'Age', 'Education', 'Income']], df['Diabetes_012'], test_size = .15)\n",
    "x_tr, x_val, y_tr, y_val = train_test_split(x_train, y_train, test_size = .15)\n"
   ]
  },
  {
   "cell_type": "code",
   "execution_count": 6,
   "id": "ed31033b",
   "metadata": {
    "scrolled": false
   },
   "outputs": [],
   "source": [
    "# Balance weight feature\n",
    "x_train2, x_test2, y_train2, y_test2 = train_test_split(df[['HighBP', 'HighChol','BMI','GenHlth','DiffWalk','Age']], df['Diabetes_012'], test_size = .15)\n",
    "x_tr2, x_val2, y_tr2, y_val2 = train_test_split(x_train2, y_train2, test_size = .15)\n"
   ]
  },
  {
   "cell_type": "code",
   "execution_count": 7,
   "id": "04e0b11b",
   "metadata": {},
   "outputs": [],
   "source": [
    "# Oversample full\n",
    "x_train3, x_test3, y_train3, y_test3 = train_test_split(df[['HighBP', 'HighChol', 'CholCheck', 'BMI', 'Smoker', 'Stroke', 'HeartDiseaseorAttack', 'PhysActivity', 'Fruits', 'Veggies', 'HvyAlcoholConsump', 'AnyHealthcare', 'NoDocbcCost', 'GenHlth', 'MentHlth', 'PhysHlth', 'DiffWalk', 'Sex', 'Age', 'Education', 'Income']], df['Diabetes_012'], test_size = .15)\n",
    "x_tr3, x_val3, y_tr3, y_val3 = train_test_split(x_train3, y_train3, test_size = .15)"
   ]
  },
  {
   "cell_type": "code",
   "execution_count": 8,
   "id": "48513ad0",
   "metadata": {},
   "outputs": [],
   "source": [
    "X = x_train3\n",
    "Y = y_train3"
   ]
  },
  {
   "cell_type": "code",
   "execution_count": 9,
   "id": "f374e9f9",
   "metadata": {},
   "outputs": [],
   "source": [
    "#Oversample feature\n",
    "x_train4, x_test4, y_train4, y_test4 = train_test_split(df[['HighBP', 'HighChol','BMI','GenHlth','DiffWalk','Age']], df['Diabetes_012'], test_size = .15)\n",
    "x_tr4, x_val4, y_tr4, y_val4 = train_test_split(x_train4, y_train4, test_size = .15)\n"
   ]
  },
  {
   "cell_type": "code",
   "execution_count": 10,
   "id": "a1de37a3",
   "metadata": {},
   "outputs": [],
   "source": [
    "A = x_train4\n",
    "B = y_train4"
   ]
  },
  {
   "cell_type": "code",
   "execution_count": 11,
   "id": "c17e857b",
   "metadata": {},
   "outputs": [],
   "source": [
    "# undersample full\n",
    "x_train5, x_test5, y_train5, y_test5 = train_test_split(df[['HighBP', 'HighChol', 'CholCheck', 'BMI', 'Smoker', 'Stroke', 'HeartDiseaseorAttack', 'PhysActivity', 'Fruits', 'Veggies', 'HvyAlcoholConsump', 'AnyHealthcare', 'NoDocbcCost', 'GenHlth', 'MentHlth', 'PhysHlth', 'DiffWalk', 'Sex', 'Age', 'Education', 'Income']], df['Diabetes_012'], test_size = .15)\n",
    "x_tr5, x_val5, y_tr5, y_val5 = train_test_split(x_train5, y_train5, test_size = .15)"
   ]
  },
  {
   "cell_type": "code",
   "execution_count": 12,
   "id": "ad8c5616",
   "metadata": {},
   "outputs": [],
   "source": [
    "C = x_train5\n",
    "D = y_train5"
   ]
  },
  {
   "cell_type": "code",
   "execution_count": 13,
   "id": "0ea0948c",
   "metadata": {},
   "outputs": [],
   "source": [
    "#undersample feature\n",
    "x_train6, x_test6, y_train6, y_test6 = train_test_split(df[['HighBP', 'HighChol','BMI','GenHlth','DiffWalk','Age']], df['Diabetes_012'], test_size = .15)\n",
    "x_tr6, x_val6, y_tr6, y_val6 = train_test_split(x_train6, y_train6, test_size = .15)\n"
   ]
  },
  {
   "cell_type": "code",
   "execution_count": 14,
   "id": "07f99e94",
   "metadata": {},
   "outputs": [],
   "source": [
    "E = x_train6\n",
    "F = y_train6"
   ]
  },
  {
   "cell_type": "code",
   "execution_count": 15,
   "id": "db004508",
   "metadata": {},
   "outputs": [],
   "source": [
    "# SMOTE full\n",
    "x_train7, x_test7, y_train7, y_test7 = train_test_split(df[['HighBP', 'HighChol', 'CholCheck', 'BMI', 'Smoker', 'Stroke', 'HeartDiseaseorAttack', 'PhysActivity', 'Fruits', 'Veggies', 'HvyAlcoholConsump', 'AnyHealthcare', 'NoDocbcCost', 'GenHlth', 'MentHlth', 'PhysHlth', 'DiffWalk', 'Sex', 'Age', 'Education', 'Income']], df['Diabetes_012'], test_size = .15)\n",
    "x_tr7, x_val7, y_tr7, y_val7 = train_test_split(x_train7, y_train7, test_size = .15)"
   ]
  },
  {
   "cell_type": "code",
   "execution_count": 16,
   "id": "b7056b12",
   "metadata": {},
   "outputs": [],
   "source": [
    "G = x_train7\n",
    "H = y_train7"
   ]
  },
  {
   "cell_type": "code",
   "execution_count": 17,
   "id": "35c479eb",
   "metadata": {},
   "outputs": [],
   "source": [
    "# SMOTE feature\n",
    "x_train8, x_test8, y_train8, y_test8 = train_test_split(df[['HighBP', 'HighChol','BMI','GenHlth','DiffWalk','Age']], df['Diabetes_012'], test_size = .15)\n",
    "x_tr8, x_val8, y_tr8, y_val8 = train_test_split(x_train8, y_train8, test_size = .15)\n"
   ]
  },
  {
   "cell_type": "code",
   "execution_count": 18,
   "id": "009293b5",
   "metadata": {},
   "outputs": [],
   "source": [
    "I = x_train8\n",
    "J = y_train8"
   ]
  },
  {
   "cell_type": "code",
   "execution_count": 19,
   "id": "2b73bc8b",
   "metadata": {},
   "outputs": [
    {
     "name": "stdout",
     "output_type": "stream",
     "text": [
      "Decision Tree score: %77.81\n"
     ]
    }
   ],
   "source": [
    "# Before mod\n",
    "clf0 = tree.DecisionTreeClassifier().fit(x_tr0, y_tr0)\n",
    "print(\"Decision Tree score: %\" + str(round((clf0.score(x_val0,y_val0)) * 100 , 2)))"
   ]
  },
  {
   "cell_type": "code",
   "execution_count": 20,
   "id": "60af6ec1",
   "metadata": {},
   "outputs": [
    {
     "name": "stdout",
     "output_type": "stream",
     "text": [
      "Decision Tree score: %77.67\n"
     ]
    }
   ],
   "source": [
    "# Balance weight full\n",
    "clf = tree.DecisionTreeClassifier(class_weight = \"balanced\").fit(x_tr, y_tr)\n",
    "print(\"Decision Tree score: %\" + str(round((clf.score(x_val,y_val)) * 100 , 2)))"
   ]
  },
  {
   "cell_type": "code",
   "execution_count": 21,
   "id": "97ab9c08",
   "metadata": {},
   "outputs": [
    {
     "name": "stdout",
     "output_type": "stream",
     "text": [
      "Decision Tree score: %71.23\n"
     ]
    }
   ],
   "source": [
    "# Balance weight feature\n",
    "clf2 = tree.DecisionTreeClassifier(class_weight = \"balanced\").fit(x_tr2, y_tr2)\n",
    "print(\"Decision Tree score: %\" + str(round((clf2.score(x_val2,y_val2)) * 100 , 2)))"
   ]
  },
  {
   "cell_type": "code",
   "execution_count": 22,
   "id": "1ee6a920",
   "metadata": {},
   "outputs": [
    {
     "name": "stdout",
     "output_type": "stream",
     "text": [
      "[(0.0, 181617), (1.0, 181617)] (363234,)\n"
     ]
    }
   ],
   "source": [
    "# Oversample full\n",
    "ros = RandomOverSampler(random_state = 0)\n",
    "x_resample, y_resample = ros.fit_resample(X,Y)\n",
    "print(sorted(Counter(y_resample).items()), y_resample.shape)"
   ]
  },
  {
   "cell_type": "code",
   "execution_count": 23,
   "id": "49b70f28",
   "metadata": {},
   "outputs": [
    {
     "name": "stdout",
     "output_type": "stream",
     "text": [
      "0.990570412737672\n",
      "Decision Tree score: %77.74\n"
     ]
    }
   ],
   "source": [
    "# Oversample full\n",
    "clf3 = tree.DecisionTreeClassifier().fit(x_resample, y_resample)\n",
    "print(clf3.score(x_val3,y_val3))\n",
    "print(\"Decision Tree score: %\" + str(round((clf3.score(x_test3,y_test3)) * 100 , 2)))"
   ]
  },
  {
   "cell_type": "code",
   "execution_count": 24,
   "id": "17d7a826",
   "metadata": {},
   "outputs": [
    {
     "name": "stdout",
     "output_type": "stream",
     "text": [
      "[(0.0, 181608), (1.0, 181608)] (363216,)\n"
     ]
    }
   ],
   "source": [
    "# Oversample feature\n",
    "ros2 = RandomOverSampler(random_state = 0)\n",
    "x_resample2, y_resample2 = ros2.fit_resample(A,B)\n",
    "print(sorted(Counter(y_resample2).items()), y_resample2.shape)"
   ]
  },
  {
   "cell_type": "code",
   "execution_count": 25,
   "id": "d761c356",
   "metadata": {},
   "outputs": [
    {
     "name": "stdout",
     "output_type": "stream",
     "text": [
      "0.7432988097078373\n",
      "Decision Tree score: %72.0\n"
     ]
    }
   ],
   "source": [
    "# Oversample feature\n",
    "clf4 = tree.DecisionTreeClassifier().fit(x_resample2, y_resample2)\n",
    "print(clf4.score(x_val4,y_val4))\n",
    "print(\"Decision Tree score: %\" + str(round((clf4.score(x_test4,y_test4)) * 100 , 2)))"
   ]
  },
  {
   "cell_type": "code",
   "execution_count": 26,
   "id": "7a00ae02",
   "metadata": {},
   "outputs": [
    {
     "name": "stdout",
     "output_type": "stream",
     "text": [
      "[(0.0, 34065), (1.0, 34065)] (68130,)\n"
     ]
    }
   ],
   "source": [
    "# undersample full\n",
    "rus = RandomUnderSampler(random_state = 0)\n",
    "x_undersample, y_undersample = rus.fit_resample(C,D)\n",
    "\n",
    "print(sorted(Counter(y_undersample).items()), y_undersample.shape)"
   ]
  },
  {
   "cell_type": "code",
   "execution_count": 27,
   "id": "1af033e8",
   "metadata": {},
   "outputs": [
    {
     "name": "stdout",
     "output_type": "stream",
     "text": [
      "0.7652805688669037\n",
      "Decision Tree score: %64.68\n"
     ]
    }
   ],
   "source": [
    "# Undersample full\n",
    "clf5 = tree.DecisionTreeClassifier().fit(x_undersample, y_undersample)\n",
    "print(clf5.score(x_val5,y_val5))\n",
    "print(\"Decision Tree score: %\" + str(round((clf5.score(x_test5,y_test5)) * 100 , 2)))"
   ]
  },
  {
   "cell_type": "code",
   "execution_count": 28,
   "id": "8071ed7a",
   "metadata": {},
   "outputs": [
    {
     "name": "stdout",
     "output_type": "stream",
     "text": [
      "[(0.0, 34010), (1.0, 34010)] (68020,)\n"
     ]
    }
   ],
   "source": [
    "# undersample feature\n",
    "rus = RandomUnderSampler(random_state = 0)\n",
    "x_undersample2, y_undersample2 = rus.fit_resample(E,F)\n",
    "#Checking size \n",
    "print(sorted(Counter(y_undersample2).items()), y_undersample2.shape)"
   ]
  },
  {
   "cell_type": "code",
   "execution_count": 29,
   "id": "53d9aeab",
   "metadata": {},
   "outputs": [
    {
     "name": "stdout",
     "output_type": "stream",
     "text": [
      "0.7428659761941567\n",
      "Decision Tree score: %71.74\n"
     ]
    }
   ],
   "source": [
    "# Undersample feature\n",
    "clf6 = tree.DecisionTreeClassifier().fit(x_undersample2, y_undersample2)\n",
    "print(clf6.score(x_val6,y_val6))\n",
    "print(\"Decision Tree score: %\" + str(round((clf6.score(x_test6,y_test6)) * 100 , 2)))"
   ]
  },
  {
   "cell_type": "code",
   "execution_count": 30,
   "id": "ae3a25bf",
   "metadata": {},
   "outputs": [
    {
     "data": {
      "text/plain": [
       "1.0    181593\n",
       "0.0    181593\n",
       "Name: Diabetes_012, dtype: int64"
      ]
     },
     "execution_count": 30,
     "metadata": {},
     "output_type": "execute_result"
    }
   ],
   "source": [
    "# SMOTE full\n",
    "smote = SMOTE(sampling_strategy = 'minority', k_neighbors = 15)\n",
    "X2, Y2 = smote.fit_resample(G,H)\n",
    "Y2.value_counts()"
   ]
  },
  {
   "cell_type": "code",
   "execution_count": 31,
   "id": "29c21260",
   "metadata": {},
   "outputs": [
    {
     "name": "stdout",
     "output_type": "stream",
     "text": [
      "Decision Tree score: %78.01\n"
     ]
    }
   ],
   "source": [
    "# SMOTE full\n",
    "clf7 = tree.DecisionTreeClassifier().fit(X2,Y2)\n",
    "clf7.score(x_val7,y_val7)\n",
    "print(\"Decision Tree score: %\" + str(round((clf7.score(x_test7,y_test7)) * 100 , 2)))"
   ]
  },
  {
   "cell_type": "code",
   "execution_count": 32,
   "id": "2b2bbd56",
   "metadata": {},
   "outputs": [
    {
     "data": {
      "text/plain": [
       "0.0    181630\n",
       "1.0    181630\n",
       "Name: Diabetes_012, dtype: int64"
      ]
     },
     "execution_count": 32,
     "metadata": {},
     "output_type": "execute_result"
    }
   ],
   "source": [
    "# SMOTE feature\n",
    "smote2 = SMOTE(sampling_strategy = 'minority', k_neighbors = 15)\n",
    "X3, Y3 = smote2.fit_resample(I,J)\n",
    "Y3.value_counts()"
   ]
  },
  {
   "cell_type": "code",
   "execution_count": 33,
   "id": "b05d86de",
   "metadata": {},
   "outputs": [
    {
     "name": "stdout",
     "output_type": "stream",
     "text": [
      "Decision Tree score: %76.82\n"
     ]
    }
   ],
   "source": [
    "# SMOTE feature\n",
    "clf8 = tree.DecisionTreeClassifier().fit(X3,Y3)\n",
    "clf8.score(x_val8,y_val8)\n",
    "print(\"Decision Tree score: %\" + str(round((clf8.score(x_test8,y_test8)) * 100 , 2)))"
   ]
  },
  {
   "cell_type": "code",
   "execution_count": 34,
   "id": "e094cb5c",
   "metadata": {},
   "outputs": [
    {
     "name": "stdout",
     "output_type": "stream",
     "text": [
      "[[27620  4508]\n",
      " [ 3864  2060]]\n",
      "[0. 0. 0. ... 0. 0. 0.]\n",
      "[1. 0. 0. ... 0. 0. 0.]\n"
     ]
    }
   ],
   "source": [
    "# Before mod\n",
    "y_predict0 = clf0.predict(x_test0)\n",
    "print(confusion_matrix(y_test0,y_predict0))\n",
    "print (y_test0.values)\n",
    "print (y_predict0)"
   ]
  },
  {
   "cell_type": "code",
   "execution_count": 35,
   "id": "12912dfc",
   "metadata": {},
   "outputs": [
    {
     "name": "stdout",
     "output_type": "stream",
     "text": [
      "[[27822  4349]\n",
      " [ 3996  1885]]\n",
      "[0. 1. 0. ... 1. 0. 0.]\n",
      "[1. 1. 0. ... 0. 0. 1.]\n"
     ]
    }
   ],
   "source": [
    "# Balance weight full\n",
    "y_predict = clf.predict(x_test)\n",
    "print(confusion_matrix(y_test,y_predict))\n",
    "print (y_test.values)\n",
    "print (y_predict)"
   ]
  },
  {
   "cell_type": "code",
   "execution_count": 36,
   "id": "24c4bf9a",
   "metadata": {},
   "outputs": [
    {
     "name": "stdout",
     "output_type": "stream",
     "text": [
      "[[23120  8877]\n",
      " [ 1742  4313]]\n",
      "[1. 0. 0. ... 0. 0. 0.]\n",
      "[1. 0. 0. ... 0. 0. 0.]\n"
     ]
    }
   ],
   "source": [
    "# Balance weight feature\n",
    "y_predict2 = clf2.predict(x_test2)\n",
    "print(confusion_matrix(y_test2,y_predict2))\n",
    "print (y_test2.values)\n",
    "print (y_predict2)"
   ]
  },
  {
   "cell_type": "code",
   "execution_count": 37,
   "id": "e2a34705",
   "metadata": {},
   "outputs": [
    {
     "name": "stdout",
     "output_type": "stream",
     "text": [
      "[[27707  4379]\n",
      " [ 4090  1876]]\n",
      "[0. 0. 0. ... 0. 0. 0.]\n",
      "[0. 0. 0. ... 0. 0. 0.]\n"
     ]
    }
   ],
   "source": [
    "# Oversample full\n",
    "y_predict3 = clf3.predict(x_test3)\n",
    "print(confusion_matrix(y_test3,y_predict3))\n",
    "print (y_test3.values)\n",
    "print (y_predict3)"
   ]
  },
  {
   "cell_type": "code",
   "execution_count": 38,
   "id": "f5f85fba",
   "metadata": {},
   "outputs": [
    {
     "name": "stdout",
     "output_type": "stream",
     "text": [
      "[[23159  8936]\n",
      " [ 1720  4237]]\n",
      "[0. 0. 1. ... 0. 0. 0.]\n",
      "[0. 0. 1. ... 0. 0. 0.]\n"
     ]
    }
   ],
   "source": [
    "# Oversample feature\n",
    "y_predict4 = clf4.predict(x_test4)\n",
    "print(confusion_matrix(y_test4,y_predict4))\n",
    "print (y_test4.values)\n",
    "print (y_predict4)"
   ]
  },
  {
   "cell_type": "code",
   "execution_count": 39,
   "id": "146b7418",
   "metadata": {},
   "outputs": [
    {
     "name": "stdout",
     "output_type": "stream",
     "text": [
      "[[20879 11261]\n",
      " [ 2178  3734]]\n",
      "[0. 0. 0. ... 0. 0. 0.]\n",
      "[0. 0. 0. ... 0. 0. 0.]\n"
     ]
    }
   ],
   "source": [
    "# Undersample full\n",
    "y_predict5 = clf5.predict(x_test5)\n",
    "print(confusion_matrix(y_test5,y_predict5))\n",
    "print (y_test5.values)\n",
    "print (y_predict5)"
   ]
  },
  {
   "cell_type": "code",
   "execution_count": 40,
   "id": "e00fb1f3",
   "metadata": {},
   "outputs": [
    {
     "name": "stdout",
     "output_type": "stream",
     "text": [
      "[[23044  9041]\n",
      " [ 1711  4256]]\n",
      "[0. 0. 0. ... 0. 1. 0.]\n",
      "[0. 0. 0. ... 1. 0. 1.]\n"
     ]
    }
   ],
   "source": [
    "# Undersample feature\n",
    "y_predict6 = clf6.predict(x_test6)\n",
    "print(confusion_matrix(y_test6,y_predict6))\n",
    "print (y_test6.values)\n",
    "print (y_predict6)"
   ]
  },
  {
   "cell_type": "code",
   "execution_count": 41,
   "id": "7a3e6f65",
   "metadata": {},
   "outputs": [
    {
     "name": "stdout",
     "output_type": "stream",
     "text": [
      "[[27625  4485]\n",
      " [ 3884  2058]]\n",
      "[0. 0. 0. ... 0. 0. 0.]\n",
      "[0. 0. 1. ... 0. 0. 0.]\n"
     ]
    }
   ],
   "source": [
    "# SMOTE full\n",
    "y_predict7 = clf7.predict(x_test7)\n",
    "print(confusion_matrix(y_test7,y_predict7))\n",
    "print (y_test7.values)\n",
    "print (y_predict7)"
   ]
  },
  {
   "cell_type": "code",
   "execution_count": 42,
   "id": "baba16a7",
   "metadata": {},
   "outputs": [
    {
     "name": "stdout",
     "output_type": "stream",
     "text": [
      "[[25864  6209]\n",
      " [ 2610  3369]]\n",
      "[0. 0. 0. ... 0. 1. 0.]\n",
      "[0. 0. 0. ... 1. 0. 1.]\n"
     ]
    }
   ],
   "source": [
    "# SMOTE feature\n",
    "y_predict8 = clf8.predict(x_test8)\n",
    "print(confusion_matrix(y_test8,y_predict8))\n",
    "print (y_test8.values)\n",
    "print (y_predict8)"
   ]
  },
  {
   "cell_type": "code",
   "execution_count": 43,
   "id": "b5e9e27c",
   "metadata": {
    "scrolled": true
   },
   "outputs": [
    {
     "name": "stdout",
     "output_type": "stream",
     "text": [
      "              precision    recall  f1-score   support\n",
      "\n",
      "         0.0       0.88      0.86      0.87     32128\n",
      "         1.0       0.31      0.35      0.33      5924\n",
      "\n",
      "    accuracy                           0.78     38052\n",
      "   macro avg       0.60      0.60      0.60     38052\n",
      "weighted avg       0.79      0.78      0.78     38052\n",
      "\n"
     ]
    }
   ],
   "source": [
    "# Before mod\n",
    "print(classification_report(y_test0, y_predict0))"
   ]
  },
  {
   "cell_type": "code",
   "execution_count": 44,
   "id": "637a897c",
   "metadata": {},
   "outputs": [
    {
     "name": "stdout",
     "output_type": "stream",
     "text": [
      "              precision    recall  f1-score   support\n",
      "\n",
      "         0.0       0.87      0.86      0.87     32171\n",
      "         1.0       0.30      0.32      0.31      5881\n",
      "\n",
      "    accuracy                           0.78     38052\n",
      "   macro avg       0.59      0.59      0.59     38052\n",
      "weighted avg       0.79      0.78      0.78     38052\n",
      "\n"
     ]
    }
   ],
   "source": [
    "# Balance weight full\n",
    "print(classification_report(y_test, y_predict))"
   ]
  },
  {
   "cell_type": "code",
   "execution_count": 45,
   "id": "4d2cd38e",
   "metadata": {},
   "outputs": [
    {
     "name": "stdout",
     "output_type": "stream",
     "text": [
      "              precision    recall  f1-score   support\n",
      "\n",
      "         0.0       0.93      0.72      0.81     31997\n",
      "         1.0       0.33      0.71      0.45      6055\n",
      "\n",
      "    accuracy                           0.72     38052\n",
      "   macro avg       0.63      0.72      0.63     38052\n",
      "weighted avg       0.83      0.72      0.76     38052\n",
      "\n"
     ]
    }
   ],
   "source": [
    "# Balance weight feature\n",
    "print(classification_report(y_test2, y_predict2))"
   ]
  },
  {
   "cell_type": "code",
   "execution_count": 46,
   "id": "bbd9f75f",
   "metadata": {},
   "outputs": [
    {
     "name": "stdout",
     "output_type": "stream",
     "text": [
      "              precision    recall  f1-score   support\n",
      "\n",
      "         0.0       0.87      0.86      0.87     32086\n",
      "         1.0       0.30      0.31      0.31      5966\n",
      "\n",
      "    accuracy                           0.78     38052\n",
      "   macro avg       0.59      0.59      0.59     38052\n",
      "weighted avg       0.78      0.78      0.78     38052\n",
      "\n"
     ]
    }
   ],
   "source": [
    "# Oversample full\n",
    "print(classification_report(y_test3, y_predict3))"
   ]
  },
  {
   "cell_type": "code",
   "execution_count": 47,
   "id": "c61e2001",
   "metadata": {},
   "outputs": [
    {
     "name": "stdout",
     "output_type": "stream",
     "text": [
      "              precision    recall  f1-score   support\n",
      "\n",
      "         0.0       0.93      0.72      0.81     32095\n",
      "         1.0       0.32      0.71      0.44      5957\n",
      "\n",
      "    accuracy                           0.72     38052\n",
      "   macro avg       0.63      0.72      0.63     38052\n",
      "weighted avg       0.84      0.72      0.76     38052\n",
      "\n"
     ]
    }
   ],
   "source": [
    "# Oversample feature\n",
    "print(classification_report(y_test4, y_predict4))"
   ]
  },
  {
   "cell_type": "code",
   "execution_count": 48,
   "id": "126458ea",
   "metadata": {},
   "outputs": [
    {
     "name": "stdout",
     "output_type": "stream",
     "text": [
      "              precision    recall  f1-score   support\n",
      "\n",
      "         0.0       0.91      0.65      0.76     32140\n",
      "         1.0       0.25      0.63      0.36      5912\n",
      "\n",
      "    accuracy                           0.65     38052\n",
      "   macro avg       0.58      0.64      0.56     38052\n",
      "weighted avg       0.80      0.65      0.69     38052\n",
      "\n"
     ]
    }
   ],
   "source": [
    "# Undersample full\n",
    "print(classification_report(y_test5, y_predict5))"
   ]
  },
  {
   "cell_type": "code",
   "execution_count": 49,
   "id": "4a8ec33e",
   "metadata": {},
   "outputs": [
    {
     "name": "stdout",
     "output_type": "stream",
     "text": [
      "              precision    recall  f1-score   support\n",
      "\n",
      "         0.0       0.93      0.72      0.81     32085\n",
      "         1.0       0.32      0.71      0.44      5967\n",
      "\n",
      "    accuracy                           0.72     38052\n",
      "   macro avg       0.63      0.72      0.63     38052\n",
      "weighted avg       0.84      0.72      0.75     38052\n",
      "\n"
     ]
    }
   ],
   "source": [
    "# Undersample feature\n",
    "print(classification_report(y_test6, y_predict6))"
   ]
  },
  {
   "cell_type": "code",
   "execution_count": 50,
   "id": "524bae8a",
   "metadata": {},
   "outputs": [
    {
     "name": "stdout",
     "output_type": "stream",
     "text": [
      "              precision    recall  f1-score   support\n",
      "\n",
      "         0.0       0.88      0.86      0.87     32110\n",
      "         1.0       0.31      0.35      0.33      5942\n",
      "\n",
      "    accuracy                           0.78     38052\n",
      "   macro avg       0.60      0.60      0.60     38052\n",
      "weighted avg       0.79      0.78      0.78     38052\n",
      "\n"
     ]
    }
   ],
   "source": [
    "# SMOTE full\n",
    "print(classification_report(y_test7, y_predict7))"
   ]
  },
  {
   "cell_type": "code",
   "execution_count": 51,
   "id": "c1144c24",
   "metadata": {},
   "outputs": [
    {
     "name": "stdout",
     "output_type": "stream",
     "text": [
      "              precision    recall  f1-score   support\n",
      "\n",
      "         0.0       0.91      0.81      0.85     32073\n",
      "         1.0       0.35      0.56      0.43      5979\n",
      "\n",
      "    accuracy                           0.77     38052\n",
      "   macro avg       0.63      0.68      0.64     38052\n",
      "weighted avg       0.82      0.77      0.79     38052\n",
      "\n"
     ]
    }
   ],
   "source": [
    "# SMOTE feature\n",
    "print(classification_report(y_test8, y_predict8))"
   ]
  },
  {
   "cell_type": "code",
   "execution_count": 52,
   "id": "6855ce33",
   "metadata": {},
   "outputs": [
    {
     "name": "stdout",
     "output_type": "stream",
     "text": [
      "The amount of True Positives are: 2060\n",
      "The amount of True Negatives are: 27620\n"
     ]
    }
   ],
   "source": [
    "# Before mod\n",
    "array0 = (confusion_matrix(y_test0, y_predict0))\n",
    "print (\"The amount of True Positives are: \" + str(array0[1][1]))\n",
    "print (\"The amount of True Negatives are: \" + str(array0[0][0]))"
   ]
  },
  {
   "cell_type": "code",
   "execution_count": 53,
   "id": "f23c3c4d",
   "metadata": {},
   "outputs": [
    {
     "name": "stdout",
     "output_type": "stream",
     "text": [
      "The amount of True Positives are: 1885\n",
      "The amount of True Negatives are: 27822\n"
     ]
    }
   ],
   "source": [
    "# Balance weight full\n",
    "array = (confusion_matrix(y_test, y_predict))\n",
    "print (\"The amount of True Positives are: \" + str(array[1][1]))\n",
    "print (\"The amount of True Negatives are: \" + str(array[0][0]))"
   ]
  },
  {
   "cell_type": "code",
   "execution_count": 54,
   "id": "48bbf88c",
   "metadata": {},
   "outputs": [
    {
     "name": "stdout",
     "output_type": "stream",
     "text": [
      "The amount of True Positives are: 4313\n",
      "The amount of True Negatives are: 23120\n"
     ]
    }
   ],
   "source": [
    "# Balance weight feature\n",
    "array2 = (confusion_matrix(y_test2, y_predict2))\n",
    "print (\"The amount of True Positives are: \" + str(array2[1][1]))\n",
    "print (\"The amount of True Negatives are: \" + str(array2[0][0]))"
   ]
  },
  {
   "cell_type": "code",
   "execution_count": 55,
   "id": "76ed536d",
   "metadata": {},
   "outputs": [
    {
     "name": "stdout",
     "output_type": "stream",
     "text": [
      "The amount of True Positives are: 1876\n",
      "The amount of True Negatives are: 27707\n"
     ]
    }
   ],
   "source": [
    "# Oversample full\n",
    "array3 = (confusion_matrix(y_test3, y_predict3))\n",
    "print (\"The amount of True Positives are: \" + str(array3[1][1]))\n",
    "print (\"The amount of True Negatives are: \" + str(array3[0][0]))"
   ]
  },
  {
   "cell_type": "code",
   "execution_count": 56,
   "id": "77ad4673",
   "metadata": {},
   "outputs": [
    {
     "name": "stdout",
     "output_type": "stream",
     "text": [
      "The amount of True Positives are: 4237\n",
      "The amount of True Negatives are: 23159\n"
     ]
    }
   ],
   "source": [
    "# Oversample feature\n",
    "array4 = (confusion_matrix(y_test4, y_predict4))\n",
    "print (\"The amount of True Positives are: \" + str(array4[1][1]))\n",
    "print (\"The amount of True Negatives are: \" + str(array4[0][0]))"
   ]
  },
  {
   "cell_type": "code",
   "execution_count": 57,
   "id": "b732db11",
   "metadata": {},
   "outputs": [
    {
     "name": "stdout",
     "output_type": "stream",
     "text": [
      "The amount of True Positives are: 3734\n",
      "The amount of True Negatives are: 20879\n"
     ]
    }
   ],
   "source": [
    "# Undersample full\n",
    "array5 = (confusion_matrix(y_test5, y_predict5))\n",
    "print (\"The amount of True Positives are: \" + str(array5[1][1]))\n",
    "print (\"The amount of True Negatives are: \" + str(array5[0][0]))"
   ]
  },
  {
   "cell_type": "code",
   "execution_count": 58,
   "id": "311060a9",
   "metadata": {},
   "outputs": [
    {
     "name": "stdout",
     "output_type": "stream",
     "text": [
      "The amount of True Positives are: 4256\n",
      "The amount of True Negatives are: 23044\n"
     ]
    }
   ],
   "source": [
    "# Undersample feature\n",
    "array6 = (confusion_matrix(y_test6, y_predict6))\n",
    "print (\"The amount of True Positives are: \" + str(array6[1][1]))\n",
    "print (\"The amount of True Negatives are: \" + str(array6[0][0]))"
   ]
  },
  {
   "cell_type": "code",
   "execution_count": 59,
   "id": "b5aea04f",
   "metadata": {},
   "outputs": [
    {
     "name": "stdout",
     "output_type": "stream",
     "text": [
      "The amount of True Positives are: 2058\n",
      "The amount of True Negatives are: 27625\n"
     ]
    }
   ],
   "source": [
    "# SMOTE full\n",
    "array7 = (confusion_matrix(y_test7, y_predict7))\n",
    "print (\"The amount of True Positives are: \" + str(array7[1][1]))\n",
    "print (\"The amount of True Negatives are: \" + str(array7[0][0]))"
   ]
  },
  {
   "cell_type": "code",
   "execution_count": 60,
   "id": "b18db199",
   "metadata": {},
   "outputs": [
    {
     "name": "stdout",
     "output_type": "stream",
     "text": [
      "The amount of True Positives are: 3369\n",
      "The amount of True Negatives are: 25864\n"
     ]
    }
   ],
   "source": [
    "# SMOTE feature\n",
    "array8 = (confusion_matrix(y_test8, y_predict8))\n",
    "print (\"The amount of True Positives are: \" + str(array8[1][1]))\n",
    "print (\"The amount of True Negatives are: \" + str(array8[0][0]))"
   ]
  },
  {
   "cell_type": "code",
   "execution_count": null,
   "id": "30c18ca1",
   "metadata": {},
   "outputs": [],
   "source": []
  }
 ],
 "metadata": {
  "kernelspec": {
   "display_name": "Python 3 (ipykernel)",
   "language": "python",
   "name": "python3"
  },
  "language_info": {
   "codemirror_mode": {
    "name": "ipython",
    "version": 3
   },
   "file_extension": ".py",
   "mimetype": "text/x-python",
   "name": "python",
   "nbconvert_exporter": "python",
   "pygments_lexer": "ipython3",
   "version": "3.9.7"
  }
 },
 "nbformat": 4,
 "nbformat_minor": 5
}
