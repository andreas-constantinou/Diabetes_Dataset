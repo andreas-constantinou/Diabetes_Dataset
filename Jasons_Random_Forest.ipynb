{
 "cells": [
  {
   "cell_type": "code",
   "execution_count": 4,
   "id": "aa183480",
   "metadata": {},
   "outputs": [],
   "source": [
    "import pandas as pd\n",
    "import numpy as np\n",
    "import matplotlib.pyplot as plt\n",
    "from sklearn import datasets\n",
    "from sklearn.model_selection import train_test_split\n",
    "from sklearn.ensemble import RandomForestClassifier\n",
    "from sklearn.datasets import make_classification\n",
    "from sklearn.metrics import confusion_matrix\n",
    "from sklearn.metrics import classification_report\n",
    "\n",
    "df = pd.read_csv('diabetes_012_health_indicators_BRFSS2015.csv')\n",
    "df['Diabetes_012'].replace({2.0:1.0}, inplace = True)"
   ]
  },
  {
   "cell_type": "code",
   "execution_count": 5,
   "id": "54e81e04",
   "metadata": {},
   "outputs": [
    {
     "data": {
      "text/html": [
       "<div>\n",
       "<style scoped>\n",
       "    .dataframe tbody tr th:only-of-type {\n",
       "        vertical-align: middle;\n",
       "    }\n",
       "\n",
       "    .dataframe tbody tr th {\n",
       "        vertical-align: top;\n",
       "    }\n",
       "\n",
       "    .dataframe thead th {\n",
       "        text-align: right;\n",
       "    }\n",
       "</style>\n",
       "<table border=\"1\" class=\"dataframe\">\n",
       "  <thead>\n",
       "    <tr style=\"text-align: right;\">\n",
       "      <th></th>\n",
       "      <th>Diabetes_012</th>\n",
       "      <th>HighBP</th>\n",
       "      <th>HighChol</th>\n",
       "      <th>CholCheck</th>\n",
       "      <th>BMI</th>\n",
       "      <th>Smoker</th>\n",
       "      <th>Stroke</th>\n",
       "      <th>HeartDiseaseorAttack</th>\n",
       "      <th>PhysActivity</th>\n",
       "      <th>Fruits</th>\n",
       "      <th>...</th>\n",
       "      <th>AnyHealthcare</th>\n",
       "      <th>NoDocbcCost</th>\n",
       "      <th>GenHlth</th>\n",
       "      <th>MentHlth</th>\n",
       "      <th>PhysHlth</th>\n",
       "      <th>DiffWalk</th>\n",
       "      <th>Sex</th>\n",
       "      <th>Age</th>\n",
       "      <th>Education</th>\n",
       "      <th>Income</th>\n",
       "    </tr>\n",
       "  </thead>\n",
       "  <tbody>\n",
       "    <tr>\n",
       "      <th>216501</th>\n",
       "      <td>0.0</td>\n",
       "      <td>0.0</td>\n",
       "      <td>0.0</td>\n",
       "      <td>1.0</td>\n",
       "      <td>0.0</td>\n",
       "      <td>0.0</td>\n",
       "      <td>0.0</td>\n",
       "      <td>0.0</td>\n",
       "      <td>1.0</td>\n",
       "      <td>1.0</td>\n",
       "      <td>...</td>\n",
       "      <td>1.0</td>\n",
       "      <td>0.0</td>\n",
       "      <td>2.0</td>\n",
       "      <td>2.0</td>\n",
       "      <td>0.0</td>\n",
       "      <td>0.0</td>\n",
       "      <td>0.0</td>\n",
       "      <td>0.0</td>\n",
       "      <td>6.0</td>\n",
       "      <td>8.0</td>\n",
       "    </tr>\n",
       "    <tr>\n",
       "      <th>170903</th>\n",
       "      <td>0.0</td>\n",
       "      <td>0.0</td>\n",
       "      <td>0.0</td>\n",
       "      <td>1.0</td>\n",
       "      <td>1.0</td>\n",
       "      <td>1.0</td>\n",
       "      <td>0.0</td>\n",
       "      <td>0.0</td>\n",
       "      <td>1.0</td>\n",
       "      <td>1.0</td>\n",
       "      <td>...</td>\n",
       "      <td>1.0</td>\n",
       "      <td>0.0</td>\n",
       "      <td>2.0</td>\n",
       "      <td>0.0</td>\n",
       "      <td>2.0</td>\n",
       "      <td>0.0</td>\n",
       "      <td>0.0</td>\n",
       "      <td>0.0</td>\n",
       "      <td>6.0</td>\n",
       "      <td>8.0</td>\n",
       "    </tr>\n",
       "    <tr>\n",
       "      <th>18675</th>\n",
       "      <td>0.0</td>\n",
       "      <td>0.0</td>\n",
       "      <td>0.0</td>\n",
       "      <td>1.0</td>\n",
       "      <td>0.0</td>\n",
       "      <td>0.0</td>\n",
       "      <td>0.0</td>\n",
       "      <td>0.0</td>\n",
       "      <td>1.0</td>\n",
       "      <td>1.0</td>\n",
       "      <td>...</td>\n",
       "      <td>1.0</td>\n",
       "      <td>0.0</td>\n",
       "      <td>3.0</td>\n",
       "      <td>30.0</td>\n",
       "      <td>0.0</td>\n",
       "      <td>0.0</td>\n",
       "      <td>0.0</td>\n",
       "      <td>1.0</td>\n",
       "      <td>6.0</td>\n",
       "      <td>8.0</td>\n",
       "    </tr>\n",
       "    <tr>\n",
       "      <th>253597</th>\n",
       "      <td>0.0</td>\n",
       "      <td>0.0</td>\n",
       "      <td>0.0</td>\n",
       "      <td>1.0</td>\n",
       "      <td>0.0</td>\n",
       "      <td>0.0</td>\n",
       "      <td>0.0</td>\n",
       "      <td>0.0</td>\n",
       "      <td>1.0</td>\n",
       "      <td>1.0</td>\n",
       "      <td>...</td>\n",
       "      <td>1.0</td>\n",
       "      <td>0.0</td>\n",
       "      <td>2.0</td>\n",
       "      <td>0.0</td>\n",
       "      <td>0.0</td>\n",
       "      <td>0.0</td>\n",
       "      <td>0.0</td>\n",
       "      <td>0.0</td>\n",
       "      <td>6.0</td>\n",
       "      <td>8.0</td>\n",
       "    </tr>\n",
       "    <tr>\n",
       "      <th>197743</th>\n",
       "      <td>0.0</td>\n",
       "      <td>0.0</td>\n",
       "      <td>0.0</td>\n",
       "      <td>1.0</td>\n",
       "      <td>0.0</td>\n",
       "      <td>1.0</td>\n",
       "      <td>0.0</td>\n",
       "      <td>0.0</td>\n",
       "      <td>1.0</td>\n",
       "      <td>0.0</td>\n",
       "      <td>...</td>\n",
       "      <td>1.0</td>\n",
       "      <td>0.0</td>\n",
       "      <td>1.0</td>\n",
       "      <td>0.0</td>\n",
       "      <td>0.0</td>\n",
       "      <td>0.0</td>\n",
       "      <td>0.0</td>\n",
       "      <td>0.0</td>\n",
       "      <td>4.0</td>\n",
       "      <td>8.0</td>\n",
       "    </tr>\n",
       "  </tbody>\n",
       "</table>\n",
       "<p>5 rows × 22 columns</p>\n",
       "</div>"
      ],
      "text/plain": [
       "        Diabetes_012  HighBP  HighChol  CholCheck  BMI  Smoker  Stroke  \\\n",
       "216501           0.0     0.0       0.0        1.0  0.0     0.0     0.0   \n",
       "170903           0.0     0.0       0.0        1.0  1.0     1.0     0.0   \n",
       "18675            0.0     0.0       0.0        1.0  0.0     0.0     0.0   \n",
       "253597           0.0     0.0       0.0        1.0  0.0     0.0     0.0   \n",
       "197743           0.0     0.0       0.0        1.0  0.0     1.0     0.0   \n",
       "\n",
       "        HeartDiseaseorAttack  PhysActivity  Fruits  ...  AnyHealthcare  \\\n",
       "216501                   0.0           1.0     1.0  ...            1.0   \n",
       "170903                   0.0           1.0     1.0  ...            1.0   \n",
       "18675                    0.0           1.0     1.0  ...            1.0   \n",
       "253597                   0.0           1.0     1.0  ...            1.0   \n",
       "197743                   0.0           1.0     0.0  ...            1.0   \n",
       "\n",
       "        NoDocbcCost  GenHlth  MentHlth  PhysHlth  DiffWalk  Sex  Age  \\\n",
       "216501          0.0      2.0       2.0       0.0       0.0  0.0  0.0   \n",
       "170903          0.0      2.0       0.0       2.0       0.0  0.0  0.0   \n",
       "18675           0.0      3.0      30.0       0.0       0.0  0.0  1.0   \n",
       "253597          0.0      2.0       0.0       0.0       0.0  0.0  0.0   \n",
       "197743          0.0      1.0       0.0       0.0       0.0  0.0  0.0   \n",
       "\n",
       "        Education  Income  \n",
       "216501        6.0     8.0  \n",
       "170903        6.0     8.0  \n",
       "18675         6.0     8.0  \n",
       "253597        6.0     8.0  \n",
       "197743        4.0     8.0  \n",
       "\n",
       "[5 rows x 22 columns]"
      ]
     },
     "execution_count": 5,
     "metadata": {},
     "output_type": "execute_result"
    }
   ],
   "source": [
    "df = df[['Diabetes_012', 'HighBP', 'HighChol', 'CholCheck', 'BMI', 'Smoker', 'Stroke', 'HeartDiseaseorAttack', 'PhysActivity', 'Fruits', 'Veggies', 'HvyAlcoholConsump', 'AnyHealthcare', 'NoDocbcCost', 'GenHlth', 'MentHlth', 'PhysHlth', 'DiffWalk', 'Sex', 'Age', 'Education', 'Income']]\n",
    "#Top 5 Columns\n",
    "#df = df[['Diabetes_012', 'HighBP', 'HighChol','BMI','GenHlth','DiffWalk']]\n",
    "\n",
    "#For Undersampling, comment out this section below (Age and BMI binarization) to get better performance\n",
    "df['Age'] = np.where(df['Age'].between(1,6), 0, df['Age']) #Between and including 1 and 6\n",
    "df['Age'] = np.where(df['Age'].between(7,13), 1, df['Age']) #Between and including 7 and 13\n",
    "\n",
    "df['BMI'] = np.where(df['BMI'].between(18.5, 29.9), 0, df['BMI']) \n",
    "df['BMI'] = np.where(df['BMI'].between(1, 18.4), 1, df['BMI'])\n",
    "df['BMI'] = np.where(df['BMI'].between(30, 50), 1, df['BMI']) \n",
    "df.sample(5)"
   ]
  },
  {
   "cell_type": "code",
   "execution_count": 6,
   "id": "8db986d3",
   "metadata": {},
   "outputs": [],
   "source": [
    "# Train test split\n",
    "x_train, x_test, y_train, y_test = train_test_split(df[['HighBP', 'HighChol', 'CholCheck', 'BMI', 'Smoker', 'Stroke', 'HeartDiseaseorAttack', 'PhysActivity', 'Fruits', 'Veggies', 'HvyAlcoholConsump', 'AnyHealthcare', 'NoDocbcCost', 'GenHlth', 'MentHlth', 'PhysHlth', 'DiffWalk', 'Sex', 'Age', 'Education', 'Income']], df['Diabetes_012'], test_size = 0.15)\n",
    "#Top 5 Columns (Train test split)\n",
    "#x_train, x_test, y_train, y_test = train_test_split(df[['HighBP', 'HighChol','BMI','GenHlth','DiffWalk']], df['Diabetes_012'], test_size = 0.15)\n",
    "\n",
    "x_tr, x_val, y_tr, y_val = train_test_split(x_train, y_train, test_size = 0.15)"
   ]
  },
  {
   "cell_type": "code",
   "execution_count": 7,
   "id": "5cf4f985",
   "metadata": {},
   "outputs": [],
   "source": [
    "############### CLASS_WEIGHT = BALANCED ###############"
   ]
  },
  {
   "cell_type": "code",
   "execution_count": 8,
   "id": "6cc6331f",
   "metadata": {},
   "outputs": [
    {
     "name": "stdout",
     "output_type": "stream",
     "text": [
      "Random Forest score: %80.85\n"
     ]
    }
   ],
   "source": [
    "# Train model\n",
    "RandForest = RandomForestClassifier(class_weight = \"balanced\").fit(x_tr, y_tr)\n",
    "print(\"Random Forest score: %\" + str(round((RandForest.score(x_val, y_val)) * 100 , 2)))"
   ]
  },
  {
   "cell_type": "code",
   "execution_count": 9,
   "id": "30566284",
   "metadata": {},
   "outputs": [
    {
     "name": "stdout",
     "output_type": "stream",
     "text": [
      "              precision    recall  f1-score   support\n",
      "\n",
      "         0.0       0.87      0.91      0.89     32050\n",
      "         1.0       0.35      0.26      0.30      6002\n",
      "\n",
      "    accuracy                           0.81     38052\n",
      "   macro avg       0.61      0.58      0.59     38052\n",
      "weighted avg       0.79      0.81      0.79     38052\n",
      "\n"
     ]
    }
   ],
   "source": [
    "#CLASSIFICATION REPORT\n",
    "y_predict = RandForest.predict(x_test)\n",
    "print(classification_report(y_test, y_predict))"
   ]
  },
  {
   "cell_type": "code",
   "execution_count": 10,
   "id": "3744d291",
   "metadata": {},
   "outputs": [
    {
     "name": "stdout",
     "output_type": "stream",
     "text": [
      "[[29121  2929]\n",
      " [ 4438  1564]]\n",
      "The amount of True Positives are: 1564\n",
      "The amount of True Negatives are: 29121\n"
     ]
    }
   ],
   "source": [
    "#CONFUSION MATRIX\n",
    "print(confusion_matrix(y_test, y_predict))\n",
    "array = (confusion_matrix(y_test, y_predict))\n",
    "print (\"The amount of True Positives are: \" + str(array[1][1]))\n",
    "print (\"The amount of True Negatives are: \" + str(array[0][0]))"
   ]
  },
  {
   "cell_type": "code",
   "execution_count": 11,
   "id": "b928e2b1",
   "metadata": {},
   "outputs": [],
   "source": [
    "############### OVERSAMPLING ###############"
   ]
  },
  {
   "cell_type": "code",
   "execution_count": 12,
   "id": "80d030bf",
   "metadata": {},
   "outputs": [],
   "source": [
    "from imblearn import over_sampling\n",
    "from collections import Counter\n",
    "from imblearn.over_sampling import RandomOverSampler\n",
    "\n",
    "# OverSampling Data\n",
    "ros = RandomOverSampler(random_state = 0)\n",
    "x_resample, y_resample = ros.fit_resample(x_tr, y_tr)"
   ]
  },
  {
   "cell_type": "code",
   "execution_count": 13,
   "id": "929c1ab0",
   "metadata": {},
   "outputs": [
    {
     "name": "stdout",
     "output_type": "stream",
     "text": [
      "Random Forest score: %78.57\n"
     ]
    }
   ],
   "source": [
    "#Training the model\n",
    "RandForest_OverSamp = RandomForestClassifier().fit(x_resample, y_resample)\n",
    "print(\"Random Forest score: %\" + str(round((RandForest_OverSamp.score(x_val, y_val)) * 100, 2)))"
   ]
  },
  {
   "cell_type": "code",
   "execution_count": 14,
   "id": "e65ea4ad",
   "metadata": {},
   "outputs": [
    {
     "name": "stdout",
     "output_type": "stream",
     "text": [
      "              precision    recall  f1-score   support\n",
      "\n",
      "         0.0       0.88      0.85      0.87     32050\n",
      "         1.0       0.33      0.39      0.36      6002\n",
      "\n",
      "    accuracy                           0.78     38052\n",
      "   macro avg       0.61      0.62      0.61     38052\n",
      "weighted avg       0.80      0.78      0.79     38052\n",
      "\n"
     ]
    }
   ],
   "source": [
    "#CLASSIFICATION REPORT\n",
    "y_predict_OverSamp = RandForest_OverSamp.predict(x_test)\n",
    "print(classification_report(y_test, y_predict_OverSamp))"
   ]
  },
  {
   "cell_type": "code",
   "execution_count": 15,
   "id": "7eddeade",
   "metadata": {},
   "outputs": [
    {
     "name": "stdout",
     "output_type": "stream",
     "text": [
      "[[27342  4708]\n",
      " [ 3660  2342]]\n",
      "The amount of True Positives are: 2342\n",
      "The amount of True Negatives are: 27342\n"
     ]
    }
   ],
   "source": [
    "#CONFUSION MATRIX\n",
    "print(confusion_matrix(y_test, y_predict_OverSamp))\n",
    "array_over = (confusion_matrix(y_test, y_predict_OverSamp))\n",
    "print (\"The amount of True Positives are: \" + str(array_over[1][1]))\n",
    "print (\"The amount of True Negatives are: \" + str(array_over[0][0]))"
   ]
  },
  {
   "cell_type": "code",
   "execution_count": 16,
   "id": "fde43c43",
   "metadata": {},
   "outputs": [],
   "source": [
    "############### SMOTE-OVERSAMPLING ###############"
   ]
  },
  {
   "cell_type": "code",
   "execution_count": 17,
   "id": "b9ee7818",
   "metadata": {},
   "outputs": [],
   "source": [
    "from imblearn.over_sampling import SMOTE\n",
    "smote = SMOTE(sampling_strategy = 'minority', k_neighbors = 15)\n",
    "x_smote, y_smote = smote.fit_resample(x_tr, y_tr)"
   ]
  },
  {
   "cell_type": "code",
   "execution_count": 18,
   "id": "f0e3fff9",
   "metadata": {},
   "outputs": [
    {
     "name": "stdout",
     "output_type": "stream",
     "text": [
      "Random Forest score: %82.51\n"
     ]
    }
   ],
   "source": [
    "#Training the model\n",
    "RandForest_smote = RandomForestClassifier().fit(x_smote, y_smote)\n",
    "print(\"Random Forest score: %\" + str(round((RandForest_smote.score(x_val, y_val)) * 100, 2)))"
   ]
  },
  {
   "cell_type": "code",
   "execution_count": 19,
   "id": "e3a9fa22",
   "metadata": {},
   "outputs": [
    {
     "name": "stdout",
     "output_type": "stream",
     "text": [
      "              precision    recall  f1-score   support\n",
      "\n",
      "         0.0       0.87      0.93      0.90     32050\n",
      "         1.0       0.40      0.25      0.30      6002\n",
      "\n",
      "    accuracy                           0.82     38052\n",
      "   macro avg       0.63      0.59      0.60     38052\n",
      "weighted avg       0.79      0.82      0.80     38052\n",
      "\n"
     ]
    }
   ],
   "source": [
    "#CLASSIFICATION REPORT\n",
    "y_predict_smote = RandForest_smote.predict(x_test)\n",
    "print(classification_report(y_test, y_predict_smote))"
   ]
  },
  {
   "cell_type": "code",
   "execution_count": 20,
   "id": "c6144f6d",
   "metadata": {},
   "outputs": [
    {
     "name": "stdout",
     "output_type": "stream",
     "text": [
      "[[29788  2262]\n",
      " [ 4522  1480]]\n",
      "The amount of True Positives are: 1480\n",
      "The amount of True Negatives are: 29788\n"
     ]
    }
   ],
   "source": [
    "#CONFUSION MATRIX\n",
    "print(confusion_matrix(y_test, y_predict_smote))\n",
    "array_smote = (confusion_matrix(y_test, y_predict_smote))\n",
    "print (\"The amount of True Positives are: \" + str(array_smote[1][1]))\n",
    "print (\"The amount of True Negatives are: \" + str(array_smote[0][0]))"
   ]
  },
  {
   "cell_type": "code",
   "execution_count": 21,
   "id": "c20a2c15",
   "metadata": {},
   "outputs": [],
   "source": [
    "############### UNDERSAMPLING(Comment out Age and BMI binarization to get better results) ###############"
   ]
  },
  {
   "cell_type": "code",
   "execution_count": 22,
   "id": "85b96295",
   "metadata": {},
   "outputs": [],
   "source": [
    "from imblearn import under_sampling\n",
    "from imblearn.under_sampling import RandomUnderSampler\n",
    "\n",
    "rus = RandomUnderSampler(random_state = 0)\n",
    "x_undersample, y_undersample = rus.fit_resample(x_tr, y_tr)"
   ]
  },
  {
   "cell_type": "code",
   "execution_count": 23,
   "id": "2455b6b2",
   "metadata": {},
   "outputs": [
    {
     "name": "stdout",
     "output_type": "stream",
     "text": [
      "Random Forest score: %68.75\n"
     ]
    }
   ],
   "source": [
    "#Training the model\n",
    "RandForest_under = RandomForestClassifier().fit(x_undersample, y_undersample)\n",
    "print(\"Random Forest score: %\" + str(round((RandForest_under.score(x_val, y_val)) * 100, 2)))"
   ]
  },
  {
   "cell_type": "code",
   "execution_count": 24,
   "id": "c5b55bdb",
   "metadata": {},
   "outputs": [
    {
     "name": "stdout",
     "output_type": "stream",
     "text": [
      "              precision    recall  f1-score   support\n",
      "\n",
      "         0.0       0.93      0.68      0.78     32050\n",
      "         1.0       0.30      0.74      0.43      6002\n",
      "\n",
      "    accuracy                           0.69     38052\n",
      "   macro avg       0.62      0.71      0.61     38052\n",
      "weighted avg       0.83      0.69      0.73     38052\n",
      "\n"
     ]
    }
   ],
   "source": [
    "#CLASSIFICATION REPORT\n",
    "y_predict_under = RandForest_under.predict(x_test)\n",
    "print(classification_report(y_test, y_predict_under))"
   ]
  },
  {
   "cell_type": "code",
   "execution_count": 25,
   "id": "a9825c27",
   "metadata": {},
   "outputs": [
    {
     "name": "stdout",
     "output_type": "stream",
     "text": [
      "[[21641 10409]\n",
      " [ 1542  4460]]\n",
      "The amount of True Positives are: 4460\n",
      "The amount of True Negatives are: 21641\n"
     ]
    }
   ],
   "source": [
    "#CONFUSION MATRIX\n",
    "print(confusion_matrix(y_test, y_predict_under))\n",
    "array_under = (confusion_matrix(y_test, y_predict_under))\n",
    "print (\"The amount of True Positives are: \" + str(array_under[1][1]))\n",
    "print (\"The amount of True Negatives are: \" + str(array_under[0][0]))"
   ]
  },
  {
   "cell_type": "code",
   "execution_count": 26,
   "id": "3accbcba",
   "metadata": {},
   "outputs": [],
   "source": [
    "############### NO UNDERSAMPLING, OVERSAMPLING, SMOTE, BALANCED WEIGHT ###############"
   ]
  },
  {
   "cell_type": "code",
   "execution_count": 27,
   "id": "0056ab78",
   "metadata": {},
   "outputs": [
    {
     "name": "stdout",
     "output_type": "stream",
     "text": [
      "Random Forest score: %83.35\n"
     ]
    }
   ],
   "source": [
    "# Train model\n",
    "RandForest_nothing = RandomForestClassifier().fit(x_tr, y_tr)\n",
    "print(\"Random Forest score: %\" + str(round((RandForest_nothing.score(x_val, y_val)) * 100 , 2)))"
   ]
  },
  {
   "cell_type": "code",
   "execution_count": 28,
   "id": "c7203e9f",
   "metadata": {},
   "outputs": [
    {
     "name": "stdout",
     "output_type": "stream",
     "text": [
      "              precision    recall  f1-score   support\n",
      "\n",
      "         0.0       0.87      0.95      0.90     32050\n",
      "         1.0       0.43      0.21      0.28      6002\n",
      "\n",
      "    accuracy                           0.83     38052\n",
      "   macro avg       0.65      0.58      0.59     38052\n",
      "weighted avg       0.80      0.83      0.81     38052\n",
      "\n"
     ]
    }
   ],
   "source": [
    "#CLASSIFICATION REPORT\n",
    "y_predict_nothing = RandForest_nothing.predict(x_test)\n",
    "print(classification_report(y_test, y_predict_nothing))"
   ]
  },
  {
   "cell_type": "code",
   "execution_count": 30,
   "id": "2c75bad5",
   "metadata": {},
   "outputs": [
    {
     "name": "stdout",
     "output_type": "stream",
     "text": [
      "[[30378  1672]\n",
      " [ 4731  1271]]\n",
      "The amount of True Positives are: 1271\n",
      "The amount of True Negatives are: 30378\n"
     ]
    }
   ],
   "source": [
    "#CONFUSION MATRIX\n",
    "print(confusion_matrix(y_test, y_predict_nothing))\n",
    "array_n = (confusion_matrix(y_test, y_predict_nothing))\n",
    "print (\"The amount of True Positives are: \" + str(array_n[1][1]))\n",
    "print (\"The amount of True Negatives are: \" + str(array_n[0][0]))"
   ]
  },
  {
   "cell_type": "code",
   "execution_count": null,
   "id": "dc1a4307",
   "metadata": {},
   "outputs": [],
   "source": []
  }
 ],
 "metadata": {
  "kernelspec": {
   "display_name": "Python 3 (ipykernel)",
   "language": "python",
   "name": "python3"
  },
  "language_info": {
   "codemirror_mode": {
    "name": "ipython",
    "version": 3
   },
   "file_extension": ".py",
   "mimetype": "text/x-python",
   "name": "python",
   "nbconvert_exporter": "python",
   "pygments_lexer": "ipython3",
   "version": "3.9.7"
  }
 },
 "nbformat": 4,
 "nbformat_minor": 5
}
